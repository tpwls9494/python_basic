{
 "cells": [
  {
   "cell_type": "markdown",
   "metadata": {},
   "source": [
    "## 1085번 "
   ]
  },
  {
   "cell_type": "code",
   "execution_count": null,
   "metadata": {},
   "outputs": [
    {
     "name": "stdout",
     "output_type": "stream",
     "text": [
      "160\n"
     ]
    }
   ],
   "source": [
    "#(x,y) -> (0, 0), (w, h)\n",
    "#\n",
    "x, y, w, h = map(int, input().split())\n",
    "\n",
    "if x < w - x:\n",
    "    min = x\n",
    "else:\n",
    "    min = w - x\n",
    "\n",
    "if y < h - y:\n",
    "    if y < min:\n",
    "        min = y\n",
    "else:\n",
    "    if h - y < min:\n",
    "        min = h - y\n",
    "print(min)\n"
   ]
  },
  {
   "cell_type": "code",
   "execution_count": null,
   "metadata": {},
   "outputs": [],
   "source": [
    "# 다른 정답\n",
    "import sys\n",
    "x, y, w, h = map(int, sys.stdin.readline().split())\n",
    "\n",
    "print(min(x, y, (w-x), (h-y)))"
   ]
  },
  {
   "cell_type": "markdown",
   "metadata": {},
   "source": [
    "---\n",
    "## 1247번 "
   ]
  },
  {
   "cell_type": "code",
   "execution_count": 3,
   "metadata": {},
   "outputs": [
    {
     "name": "stdout",
     "output_type": "stream",
     "text": [
      "+\n"
     ]
    }
   ],
   "source": [
    "# 3개 테스트 셋 N(1<=N<=100000)\n",
    "import sys\n",
    "N = int(sys.stdin.readline())\n",
    "sum = 0\n",
    "for i in range(N):\n",
    "    sum += int(sys.stdin.readline())\n",
    "if sum > 0:\n",
    "    print(\"+\")\n",
    "elif sum == 0:\n",
    "    print(0)\n",
    "else:\n",
    "    print(\"-\")"
   ]
  },
  {
   "cell_type": "code",
   "execution_count": null,
   "metadata": {},
   "outputs": [],
   "source": [
    "# 다른 정답\n",
    "# sys.sydin.readline -> input로 변경경\n",
    "import sys\n",
    "input = sys.stdin.readline\n",
    "\n",
    "for i in range(3):\n",
    "    n = int(input())\n",
    "    num = 0\n",
    "    for i in range(k):\n",
    "        num += int(input())\n",
    "    if num > 0:\n",
    "        print(\"+\")\n",
    "    elif num < 0:\n",
    "        print(\"-\")\n",
    "    else:\n",
    "        print(\"0\")"
   ]
  },
  {
   "cell_type": "markdown",
   "metadata": {},
   "source": [
    "---\n",
    "## 1267번"
   ]
  },
  {
   "cell_type": "code",
   "execution_count": 4,
   "metadata": {},
   "outputs": [
    {
     "name": "stdout",
     "output_type": "stream",
     "text": [
      "M 45\n"
     ]
    }
   ],
   "source": [
    "# 영식 요금제 -> 30초 10원\n",
    "# 민식 요금제 -> 60초 15원 \n",
    "\n",
    "# list(map(int, input().split()))\n",
    "import sys\n",
    "input = sys.stdin.readline\n",
    "\n",
    "n = int(input())\n",
    "S = list(map(int, input().split()))\n",
    "M, Y = 0, 0\n",
    "for num in S:\n",
    "    M += (num//60+1)*15\n",
    "    Y += (num//30+1)*10\n",
    "if M == Y:\n",
    "    print(\"Y M\", M)\n",
    "elif M < Y:\n",
    "    print(\"M\", M)\n",
    "else:\n",
    "    print(\"Y\", Y)"
   ]
  }
 ],
 "metadata": {
  "kernelspec": {
   "display_name": "pystudy_env",
   "language": "python",
   "name": "python3"
  },
  "language_info": {
   "codemirror_mode": {
    "name": "ipython",
    "version": 3
   },
   "file_extension": ".py",
   "mimetype": "text/x-python",
   "name": "python",
   "nbconvert_exporter": "python",
   "pygments_lexer": "ipython3",
   "version": "3.12.8"
  }
 },
 "nbformat": 4,
 "nbformat_minor": 2
}
