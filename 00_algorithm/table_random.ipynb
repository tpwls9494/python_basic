{
 "cells": [
  {
   "cell_type": "code",
   "execution_count": 41,
   "metadata": {},
   "outputs": [
    {
     "name": "stdout",
     "output_type": "stream",
     "text": [
      "Group 1: ['환님', '다인님,', '이현님,', '재혁님,']\n",
      "Group 2: ['정윤님,', '재동님,', '지은님,', '주은님,']\n",
      "Group 3: ['민훈님,', '세진님,', '영서님,', '예찬님,']\n",
      "Group 4: ['윤재님,', '하늘님', '유진님,', '수연님,']\n",
      "Group 5: ['광운님,', '우중님,', '도현님,']\n"
     ]
    }
   ],
   "source": [
    "import random\n",
    "\n",
    "def divide_people_randomly():\n",
    "    # 사용자로부터 이름들을 한 줄에 입력받고 리스트로 변환\n",
    "    names = input(\"이름을 띄어쓰기로 구분하여 입력하세요: \").split()\n",
    "    n = len(names)\n",
    "\n",
    "    if n < 4:\n",
    "        print(\"최소 4명 이상의 이름을 입력해야 합니다.\")\n",
    "        return\n",
    "\n",
    "#이름 순서 섞기\n",
    "    random.shuffle(names)\n",
    "\n",
    "#4명씩 나누고, 나머지는 3명씩 나누기\n",
    "    groups = [names[i:i + 4] for i in range(0, n // 4 * 4, 4)]\n",
    "    if n % 4 != 0:\n",
    "        groups.extend([names[i:i + 3] for i in range(n // 4 * 4, n, 3)])\n",
    "\n",
    "    return groups\n",
    "\n",
    "#그룹 나누기 실행\n",
    "result = divide_people_randomly()\n",
    "\n",
    "#결과 출력\n",
    "if result:\n",
    "    for idx, group in enumerate(result, 1):\n",
    "        print(f\"Group {idx}: {group}\")"
   ]
  },
  {
   "cell_type": "code",
   "execution_count": 40,
   "metadata": {},
   "outputs": [
    {
     "name": "stdout",
     "output_type": "stream",
     "text": [
      "group 5 의 1번님은 1그룹으로 가십니다.\n",
      "group 5 의 2번님은 2그룹으로 가십니다.\n",
      "group 5 의 3번님은 3그룹으로 가십니다.\n"
     ]
    }
   ],
   "source": [
    "import random\n",
    "\n",
    "for i in range(3):\n",
    "    choose = random.randrange(1,5)\n",
    "    print(f\"group 5 의 {i+1}번님은 {choose}그룹으로 가십니다.\")\n",
    "\n"
   ]
  }
 ],
 "metadata": {
  "kernelspec": {
   "display_name": "pystudy_env",
   "language": "python",
   "name": "python3"
  },
  "language_info": {
   "codemirror_mode": {
    "name": "ipython",
    "version": 3
   },
   "file_extension": ".py",
   "mimetype": "text/x-python",
   "name": "python",
   "nbconvert_exporter": "python",
   "pygments_lexer": "ipython3",
   "version": "3.12.8"
  }
 },
 "nbformat": 4,
 "nbformat_minor": 2
}
