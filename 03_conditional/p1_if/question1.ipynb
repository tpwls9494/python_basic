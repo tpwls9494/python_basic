{
 "cells": [
  {
   "cell_type": "markdown",
   "metadata": {},
   "source": [
    "## **문제 1: 선택의 시작**\n",
    "\n",
    "**\"다람쥐는 서울에 갈 것인가?\"**\n",
    "\n",
    "다람쥐는 서울로 상경할 계획을 세우고 있습니다. 다음 조건을 확인하세요.\n",
    "\n",
    "1. 사용자에게 \"서울에 갈 계획이 있나요? (y/n): \"를 입력받으세요.\n",
    "2. 입력값이 `'y'`이면 **\"서울로 간다!\"**를 출력하세요."
   ]
  },
  {
   "cell_type": "code",
   "execution_count": null,
   "metadata": {},
   "outputs": [
    {
     "name": "stdout",
     "output_type": "stream",
     "text": [
      "서울로 간다!\n"
     ]
    }
   ],
   "source": [
    "# if input() == 'y' :\n",
    "#     print(\"서울로 간다!\")\n",
    "# else :\n",
    "#     print(\"안간다!\")\n",
    "\n",
    "plan = input(\"서울에 갈 계획이 있나요? (y/n): \")\n",
    "if plan == 'y':\n",
    "    print(\"서울로 간다!\")\n",
    "else :\n",
    "    print(\"안간다!\")"
   ]
  }
 ],
 "metadata": {
  "kernelspec": {
   "display_name": "pystudy_env",
   "language": "python",
   "name": "python3"
  },
  "language_info": {
   "codemirror_mode": {
    "name": "ipython",
    "version": 3
   },
   "file_extension": ".py",
   "mimetype": "text/x-python",
   "name": "python",
   "nbconvert_exporter": "python",
   "pygments_lexer": "ipython3",
   "version": "3.12.8"
  }
 },
 "nbformat": 4,
 "nbformat_minor": 2
}
