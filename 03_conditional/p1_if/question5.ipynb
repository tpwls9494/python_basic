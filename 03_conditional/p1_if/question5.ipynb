{
 "cells": [
  {
   "cell_type": "markdown",
   "metadata": {},
   "source": [
    "## **문제 5: 집 구하기**\n",
    "\n",
    "**\"다람쥐는 어디에 살까?\"**\n",
    "\n",
    "서울에서 집을 구해야 하는 다람쥐는 예산에 따라 집을 선택합니다.\n",
    "\n",
    "1. 사용자에게 \"월세 예산은 얼마인가요? (숫자 입력): \"를 입력받으세요.\n",
    "2. 입력값이 `1000000` 이하이면 **\"고시원에서 산다.\"**를 출력하세요.\n",
    "3. 그 외의 경우 **\"원룸을 계약한다.\"**를 출력하세요."
   ]
  },
  {
   "cell_type": "code",
   "execution_count": 1,
   "metadata": {},
   "outputs": [
    {
     "name": "stdout",
     "output_type": "stream",
     "text": [
      "고시원에서 산다다!\n"
     ]
    }
   ],
   "source": [
    "money = input(\"월세 예산은은 얼마인가요? (숫자 입력)\")\n",
    "if int(money) <= 1000000:\n",
    "    print(\"고시원에서 산다!\")\n",
    "else:\n",
    "    print(\"원룸을 계약한다.\")\n"
   ]
  },
  {
   "cell_type": "code",
   "execution_count": 2,
   "metadata": {},
   "outputs": [
    {
     "name": "stdout",
     "output_type": "stream",
     "text": [
      "고시원에서 산다!\n"
     ]
    }
   ],
   "source": [
    "# 삼항연산자로 변경\n",
    "\n",
    "money = input(\"월세 예산은은 얼마인가요? (숫자 입력)\")\n",
    "\n",
    "print(\"고시원에서 산다!\" if int(money) <= 1000000 else \"원룸을 계약한다.\")"
   ]
  }
 ],
 "metadata": {
  "kernelspec": {
   "display_name": "pystudy_env",
   "language": "python",
   "name": "python3"
  },
  "language_info": {
   "codemirror_mode": {
    "name": "ipython",
    "version": 3
   },
   "file_extension": ".py",
   "mimetype": "text/x-python",
   "name": "python",
   "nbconvert_exporter": "python",
   "pygments_lexer": "ipython3",
   "version": "3.12.8"
  }
 },
 "nbformat": 4,
 "nbformat_minor": 2
}
