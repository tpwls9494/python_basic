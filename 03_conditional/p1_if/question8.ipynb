{
 "cells": [
  {
   "cell_type": "markdown",
   "metadata": {},
   "source": [
    "## **문제 8: 주말 계획**\n",
    "\n",
    "**\"다람쥐의 주말 계획은?\"**\n",
    "\n",
    "주말이 되자 다람쥐는 여유로운 시간을 보내려 합니다.\n",
    "\n",
    "1. 사용자에게 \"오늘 날씨가 어떤가요? (맑음/비/눈): \"를 입력받으세요.\n",
    "2. 입력값이 `'맑음'`이면 **\"한강에 가서 피크닉을 즐기는 척하며 일을 한다.\"**를 출력하세요.\n",
    "3. 입력값이 `'비'`이면 **\"집에서 빗소리를 ASMR 삼아 일을 한다.\"**를 출력하세요.\n",
    "4. 입력값이 `'눈'`이면 **\"전기장판 안에서 귤을 까먹으며 일을 한다.\"**를 출력하세요.\n",
    "5. 그 외의 값이 입력되면 **\"암막 커튼 때문에 일어나지 못했다. 푹 잘 수 있군, 럭키비키잖아?\"**를 출력하세요."
   ]
  },
  {
   "cell_type": "code",
   "execution_count": 2,
   "metadata": {},
   "outputs": [
    {
     "name": "stdout",
     "output_type": "stream",
     "text": [
      "집에서 빗소리를 ASMR 삼아 일을 한다.\n"
     ]
    }
   ],
   "source": [
    "plan = input(\"오늘 날씨는 어떤가요? (맑음/비/눈)\")\n",
    "\n",
    "if plan == \"맑음\":\n",
    "    print(\"한강에 가서 피크닉을 즐기는 척하며 일을 한다.\")\n",
    "elif plan == '비':\n",
    "    print(\"집에서 빗소리를 ASMR 삼아 일을 한다.\")\n",
    "elif plan == '눈':\n",
    "    print(\"전기장판 안에서 귤을 까먹으며 일을 한다.\")\n",
    "else:\n",
    "    print(\"암막 커튼 때문에 일어나지 못했다. 푹 잘 수 있군, 럭키비키잖아?\")"
   ]
  },
  {
   "cell_type": "code",
   "execution_count": 4,
   "metadata": {},
   "outputs": [
    {
     "name": "stdout",
     "output_type": "stream",
     "text": [
      "집에서 빗소리를 ASMR 삼아 일을 한다.\n"
     ]
    }
   ],
   "source": [
    "# match - case 문으로 변경\n",
    "weather = input(\"오늘 날씨는 어떤가요? (맑음/비/눈)\")\n",
    "\n",
    "match weather :\n",
    "    case \"맑음\" :\n",
    "        print(\"한강에 가서 피크닉을 즐기는 척하며 일을 한다.\")\n",
    "    case '비':\n",
    "        print(\"집에서 빗소리를 ASMR 삼아 일을 한다.\")\n",
    "    case '눈':\n",
    "        print(\"전기장판 안에서 귤을 까먹으며 일을 한다.\")\n",
    "    case _:\n",
    "        print(\"암막 커튼 때문에 일어나지 못했다. 푹 잘 수 있군, 럭키비키잖아?\")\n",
    "\n"
   ]
  }
 ],
 "metadata": {
  "kernelspec": {
   "display_name": "pystudy_env",
   "language": "python",
   "name": "python3"
  },
  "language_info": {
   "codemirror_mode": {
    "name": "ipython",
    "version": 3
   },
   "file_extension": ".py",
   "mimetype": "text/x-python",
   "name": "python",
   "nbconvert_exporter": "python",
   "pygments_lexer": "ipython3",
   "version": "3.12.8"
  }
 },
 "nbformat": 4,
 "nbformat_minor": 2
}
