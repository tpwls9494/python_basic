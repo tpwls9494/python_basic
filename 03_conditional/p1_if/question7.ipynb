{
 "cells": [
  {
   "cell_type": "markdown",
   "metadata": {},
   "source": [
    "## **문제 7: 생활 루틴 정하기**\n",
    "\n",
    "**\"다람쥐는 서울에서 생활 루틴을 정해야 한다.\"**\n",
    "\n",
    "서울 생활에 적응한 다람쥐는 하루 루틴을 정하려 합니다.\n",
    "\n",
    "1. 사용자에게 \"아침에 일어나는 시간을 입력하세요 (숫자 입력, 1~10): \"를 입력받으세요.\n",
    "2. 입력값이 `3`이면 **\"운동을 한다.\"**를 출력하세요.\n",
    "3. 입력값이 `4`이면 **\"공부를 한다.\"**를 출력하세요.\n",
    "4. 입력값이 `5`이면 **\"바로 출근 준비를 한다.\"**를 출력하세요."
   ]
  },
  {
   "cell_type": "code",
   "execution_count": 1,
   "metadata": {},
   "outputs": [
    {
     "name": "stdout",
     "output_type": "stream",
     "text": [
      "운동을 한다.\n"
     ]
    }
   ],
   "source": [
    "plan = input(\"아침에 일어나는 시간을 입력하세요. (숫자 입력, 6~10)\")\n",
    "\n",
    "if int(plan) == 3:\n",
    "    print(\"운동을 한다.\")\n",
    "elif int(plan) == 4:\n",
    "    print(\"공부를를 한다.\")\n",
    "elif int(plan) == 5:\n",
    "    print(\"바로 출근 준비를 한다.\")\n",
    "else:\n",
    "    print(\"가만히 있는다.\")"
   ]
  }
 ],
 "metadata": {
  "kernelspec": {
   "display_name": "pystudy_env",
   "language": "python",
   "name": "python3"
  },
  "language_info": {
   "codemirror_mode": {
    "name": "ipython",
    "version": 3
   },
   "file_extension": ".py",
   "mimetype": "text/x-python",
   "name": "python",
   "nbconvert_exporter": "python",
   "pygments_lexer": "ipython3",
   "version": "3.12.8"
  }
 },
 "nbformat": 4,
 "nbformat_minor": 2
}
