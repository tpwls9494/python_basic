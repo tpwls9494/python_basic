{
 "cells": [
  {
   "cell_type": "markdown",
   "metadata": {},
   "source": [
    "## **문제 3: 기차표 구매**\n",
    "\n",
    "**\"다람쥐는 기차표를 살 수 있을까?\"**\n",
    "\n",
    "다람쥐는 서울행 기차표를 구매하려 합니다.\n",
    "\n",
    "1. 사용자에게 \"현재 소지금은 얼마인가요? (숫자 입력): \"을 입력받으세요.\n",
    "2. 입력값이 `50000` 이상이면 **\"기차표를 구매했다!\"**를 출력하세요."
   ]
  },
  {
   "cell_type": "code",
   "execution_count": 5,
   "metadata": {},
   "outputs": [
    {
     "name": "stdout",
     "output_type": "stream",
     "text": [
      "기차표를 구매했다!\n"
     ]
    }
   ],
   "source": [
    "money = input(\"현재 소지금은 얼마인가요? (숫자 입력)\")\n",
    "if int(money) >= 50000:\n",
    "    print(\"기차표를 구매했다!\")\n",
    "else:\n",
    "    print(\"구매 못했다.\")"
   ]
  }
 ],
 "metadata": {
  "kernelspec": {
   "display_name": "pystudy_env",
   "language": "python",
   "name": "python3"
  },
  "language_info": {
   "codemirror_mode": {
    "name": "ipython",
    "version": 3
   },
   "file_extension": ".py",
   "mimetype": "text/x-python",
   "name": "python",
   "nbconvert_exporter": "python",
   "pygments_lexer": "ipython3",
   "version": "3.12.8"
  }
 },
 "nbformat": 4,
 "nbformat_minor": 2
}
