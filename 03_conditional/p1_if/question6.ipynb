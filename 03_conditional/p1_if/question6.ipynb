{
 "cells": [
  {
   "cell_type": "markdown",
   "metadata": {},
   "source": [
    "## **문제 6: 직장 찾기**\n",
    "\n",
    "**\"다람쥐는 직장을 구해야 한다!\"**\n",
    "\n",
    "다람쥐는 서울에서 일자리를 찾고 있습니다. 직장에 따라 일의 강도가 다릅니다.\n",
    "\n",
    "1. 사용자에게 \"원하는 직장 종류를 입력하세요 (프리랜서/중소기업/대기업): \"를 입력받으세요.\n",
    "2. 입력값이 `'프리랜서'`이면 **\"시간은 자유롭지만 불안정하다.\"**를 출력하세요.\n",
    "3. 입력값이 `'중소기업'`이면 **\"안정적이지만 일이 많다.\"**를 출력하세요."
   ]
  },
  {
   "cell_type": "code",
   "execution_count": 1,
   "metadata": {},
   "outputs": [
    {
     "name": "stdout",
     "output_type": "stream",
     "text": [
      "시간은 자유롭지만 불안정하다.\n"
     ]
    }
   ],
   "source": [
    "plan = input(\"원하는 직장 종류를 입력하세요? (프리랜서/중소기업/대기업업)\")\n",
    "\n",
    "if plan == \"프리랜서\":\n",
    "    print(\"시간은 자유롭지만 불안정하다.\")\n",
    "elif plan == '중소기업':\n",
    "    print(\"안정적이지만 일이 많다.\")\n",
    "else:\n",
    "    print(\"가만히 있는다.\")"
   ]
  }
 ],
 "metadata": {
  "kernelspec": {
   "display_name": "pystudy_env",
   "language": "python",
   "name": "python3"
  },
  "language_info": {
   "codemirror_mode": {
    "name": "ipython",
    "version": 3
   },
   "file_extension": ".py",
   "mimetype": "text/x-python",
   "name": "python",
   "nbconvert_exporter": "python",
   "pygments_lexer": "ipython3",
   "version": "3.12.8"
  }
 },
 "nbformat": 4,
 "nbformat_minor": 2
}
