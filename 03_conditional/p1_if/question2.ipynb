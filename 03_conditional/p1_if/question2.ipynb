{
 "cells": [
  {
   "cell_type": "markdown",
   "metadata": {},
   "source": [
    "## **문제 2: 짐 싸기**\n",
    "\n",
    "**\"다람쥐는 짐을 싸야 할까?\"**\n",
    "\n",
    "다람쥐는 서울에 가기로 마음먹었지만 짐을 싸야 할지 고민하고 있습니다.\n",
    "\n",
    "1. 사용자에게 \"집에 있는 가구를 다 가져갈까요? (y/n): \"를 입력받으세요.\n",
    "2. 입력값이 `'n'`이면 **\"서울에서 가구를 새로 산다.\"**를 출력하세요."
   ]
  },
  {
   "cell_type": "code",
   "execution_count": 1,
   "metadata": {},
   "outputs": [
    {
     "name": "stdout",
     "output_type": "stream",
     "text": [
      "서울에서 가구를 새로 산다.\n"
     ]
    }
   ],
   "source": [
    "plan = input(\"집에 있는 가구를 다 가져갈까요? (y/n)\")\n",
    "\n",
    "if plan == 'n':\n",
    "    print(\"서울에서 가구를 새로 산다.\")\n",
    "else:\n",
    "    print(\"안산다.\")"
   ]
  }
 ],
 "metadata": {
  "kernelspec": {
   "display_name": "pystudy_env",
   "language": "python",
   "name": "python3"
  },
  "language_info": {
   "codemirror_mode": {
    "name": "ipython",
    "version": 3
   },
   "file_extension": ".py",
   "mimetype": "text/x-python",
   "name": "python",
   "nbconvert_exporter": "python",
   "pygments_lexer": "ipython3",
   "version": "3.12.8"
  }
 },
 "nbformat": 4,
 "nbformat_minor": 2
}
