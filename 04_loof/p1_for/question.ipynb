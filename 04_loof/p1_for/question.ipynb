{
 "cells": [
  {
   "cell_type": "markdown",
   "metadata": {},
   "source": [
    "## **문제 1: 손님 응대하기**\n",
    "\n",
    "**\"다람쥐는 카페에서 아르바이트를 시작했다.\"**\n",
    "\n",
    "다람쥐는 손님들에게 인사를 해야 합니다.\n",
    "\n",
    "1. 손님 리스트 `customers`에 다음과 같은 손님들이 있습니다.\n",
    "    - `'토끼', '곰', '여우', '호랑이'`\n",
    "2. `for`문을 사용하여 **각 손님에게 다음과 같은 메시지를 출력하세요**:\n",
    "    - **\"안녕하세요, [손님 이름]님! 무엇을 도와드릴까요?\"**"
   ]
  },
  {
   "cell_type": "code",
   "execution_count": 4,
   "metadata": {},
   "outputs": [
    {
     "name": "stdout",
     "output_type": "stream",
     "text": [
      "안녕하세요, 토끼님! 무엇을 도와드릴까요?\n",
      "안녕하세요, 곰님! 무엇을 도와드릴까요?\n",
      "안녕하세요, 여우님! 무엇을 도와드릴까요?\n",
      "안녕하세요, 호랑이님! 무엇을 도와드릴까요?\n"
     ]
    }
   ],
   "source": [
    "customers = ['토끼', '곰', '여우', '호랑이']\n",
    "\n",
    "for num in customers:\n",
    "    print(f\"안녕하세요, {num}님! 무엇을 도와드릴까요?\")"
   ]
  },
  {
   "cell_type": "markdown",
   "metadata": {},
   "source": [
    "## **문제 2: 메뉴 준비하기**\n",
    "\n",
    "**\"다람쥐는 주문받은 음료를 준비해야 한다.\"**\n",
    "\n",
    "다람쥐는 손님들이 주문한 음료를 준비합니다.\n",
    "\n",
    "1. 주문 리스트 `orders`에 다음 음료가 있습니다.\n",
    "    - `'아메리카노', '카페라떼', '핫초코'`\n",
    "2. `for`문을 사용하여 **각 음료를 준비하는 메시지를 출력하세요**:\n",
    "    - **\"[음료 이름]를 준비 중입니다...\"**"
   ]
  },
  {
   "cell_type": "code",
   "execution_count": 3,
   "metadata": {},
   "outputs": [
    {
     "name": "stdout",
     "output_type": "stream",
     "text": [
      "아메리카노를 준비 중입니다...\n",
      "카페라떼를 준비 중입니다...\n",
      "핫초코를 준비 중입니다...\n"
     ]
    }
   ],
   "source": [
    "orders = ['아메리카노', '카페라떼', '핫초코']\n",
    "\n",
    "for num in orders:\n",
    "    print(f\"{num}를 준비 중입니다...\")"
   ]
  },
  {
   "cell_type": "markdown",
   "metadata": {},
   "source": [
    "## **문제 3: 청소하기**\n",
    "\n",
    "**\"일이 끝난 후, 다람쥐는 테이블을 청소해야 한다.\"**\n",
    "\n",
    "다람쥐는 카페의 테이블을 하나씩 청소합니다.\n",
    "\n",
    "1. 테이블 리스트 `tables`에 숫자 `1`부터 `5`까지의 테이블 번호가 있습니다.\n",
    "2. `for`문을 사용하여 **각 테이블을 청소하는 메시지를 출력하세요.**\n",
    "    - **\"[n번 테이블] 청소 완료!\"**"
   ]
  },
  {
   "cell_type": "code",
   "execution_count": 2,
   "metadata": {},
   "outputs": [
    {
     "name": "stdout",
     "output_type": "stream",
     "text": [
      "[1]번 테이블] 청소 완료!\n",
      "[2]번 테이블] 청소 완료!\n",
      "[3]번 테이블] 청소 완료!\n",
      "[4]번 테이블] 청소 완료!\n",
      "[5]번 테이블] 청소 완료!\n"
     ]
    }
   ],
   "source": [
    "tables = [1, 2, 3, 4, 5]\n",
    "\n",
    "for n in tables:\n",
    "    print(f\"[{n}]번 테이블] 청소 완료!\")"
   ]
  },
  {
   "cell_type": "markdown",
   "metadata": {},
   "source": [
    "## **문제 4: 시간 기록하기**\n",
    "\n",
    "**\"다람쥐는 출근한 후 시간마다 일을 기록해야 한다.\"**\n",
    "\n",
    "다람쥐는 9시부터 12시까지 1시간마다 기록을 남깁니다.\n",
    "\n",
    "1. `for-range`를 사용하여 9부터 12까지의 시간을 반복하세요.\n",
    "2. 각 시간마다 **\"현재 시간: [시간]시, 근무 기록합니다.\"**를 출력하세요."
   ]
  },
  {
   "cell_type": "code",
   "execution_count": 6,
   "metadata": {},
   "outputs": [
    {
     "name": "stdout",
     "output_type": "stream",
     "text": [
      "현재 시간: 9시, 근무 기록합니다.\n",
      "현재 시간: 10시, 근무 기록합니다.\n",
      "현재 시간: 11시, 근무 기록합니다.\n",
      "현재 시간: 12시, 근무 기록합니다.\n"
     ]
    }
   ],
   "source": [
    "for i in range(9, 13):\n",
    "    print(f\"현재 시간: {i}시, 근무 기록합니다.\")"
   ]
  },
  {
   "cell_type": "markdown",
   "metadata": {},
   "source": [
    "## **문제 5: 손님 수 세기**\n",
    "\n",
    "**\"손님이 계속 들어오고 있습니다.\"**\n",
    "\n",
    "다람쥐는 10명의 손님이 들어올 때마다 번호를 세야 합니다.\n",
    "\n",
    "1. `for-range`를 사용하여 숫자 `1`부터 `10`까지 출력하세요.\n",
    "2. 각 손님마다 **\"손님 [번호]번째 입장!\"**을 출력하세요."
   ]
  },
  {
   "cell_type": "code",
   "execution_count": 11,
   "metadata": {},
   "outputs": [
    {
     "name": "stdout",
     "output_type": "stream",
     "text": [
      "손님 1번째 입장!\n",
      "손님 2번째 입장!\n",
      "손님 3번째 입장!\n",
      "손님 4번째 입장!\n",
      "손님 5번째 입장!\n",
      "손님 6번째 입장!\n",
      "손님 7번째 입장!\n",
      "손님 8번째 입장!\n",
      "손님 9번째 입장!\n",
      "손님 10번째 입장!\n"
     ]
    }
   ],
   "source": [
    "for i in range(1,11):\n",
    "    print(f\"손님 {i}번째 입장!\")"
   ]
  },
  {
   "cell_type": "markdown",
   "metadata": {},
   "source": [
    "## **문제 6: 커피 만들기**\n",
    "\n",
    "**\"주문받은 커피를 몇 잔 만들까?\"**\n",
    "\n",
    "다람쥐는 주문받은 커피의 수량을 만들려고 합니다.\n",
    "\n",
    "1. `for-range`를 사용해 숫자 `1`부터 `5`까지의 커피 번호를 반복하세요.\n",
    "2. 각 커피마다 **\"[커피 번호]번째 커피를 만들고 있습니다.\"**를 출력하세요."
   ]
  },
  {
   "cell_type": "code",
   "execution_count": 10,
   "metadata": {},
   "outputs": [
    {
     "name": "stdout",
     "output_type": "stream",
     "text": [
      "1번째 커피를 만들고 있습니다.\n",
      "2번째 커피를 만들고 있습니다.\n",
      "3번째 커피를 만들고 있습니다.\n",
      "4번째 커피를 만들고 있습니다.\n",
      "5번째 커피를 만들고 있습니다.\n"
     ]
    }
   ],
   "source": [
    "for i in range(1,6):\n",
    "    print(f\"{i}번째 커피를 만들고 있습니다.\")"
   ]
  },
  {
   "cell_type": "markdown",
   "metadata": {},
   "source": [
    "## **문제 7: 테이블 청소하기**\n",
    "\n",
    "**\"다람쥐는 닫기 전에 테이블을 모두 청소해야 한다.\"**\n",
    "\n",
    "다람쥐는 5번 테이블까지 순서대로 청소해야 합니다.\n",
    "\n",
    "1. `while`문을 사용하여 `1`번부터 `5`번 테이블을 청소하세요.\n",
    "2. 각 테이블마다 **\"[n번 테이블] 청소 완료!\"**를 출력하세요."
   ]
  },
  {
   "cell_type": "code",
   "execution_count": 8,
   "metadata": {},
   "outputs": [
    {
     "name": "stdout",
     "output_type": "stream",
     "text": [
      "1번 테이블 청소 완료!\n",
      "2번 테이블 청소 완료!\n",
      "3번 테이블 청소 완료!\n",
      "4번 테이블 청소 완료!\n",
      "5번 테이블 청소 완료!\n"
     ]
    }
   ],
   "source": [
    "i = 1\n",
    "while i <= 5:\n",
    "    print(f\"{i}번 테이블 청소 완료!\")\n",
    "    i += 1"
   ]
  },
  {
   "cell_type": "markdown",
   "metadata": {},
   "source": [
    "## **문제 8: 손님이 그만 올 때까지 기다리기**\n",
    "\n",
    "**\"손님이 그만 올 때까지 카운터에서 기다리는 다람쥐.\"**\n",
    "\n",
    "다람쥐는 손님이 그만 올 때까지 카운터를 지켜야 합니다.\n",
    "\n",
    "1. 변수 `customers`에 초기값 `5`를 설정하세요.\n",
    "\n",
    "1. `while`문을 사용해 손님이 줄어들 때마다 `customers`를 1씩 감소시키세요.\n",
    "2. 손님이 0이 될 때까지 **\"남은 손님 수: [customers]명\"**을 출력하세요.\n",
    "3. 손님이 모두 떠나면 **\"오늘의 영업이 끝났습니다!\"**를 출력하세요."
   ]
  },
  {
   "cell_type": "code",
   "execution_count": 12,
   "metadata": {},
   "outputs": [
    {
     "name": "stdout",
     "output_type": "stream",
     "text": [
      "남은 손님 수: 5명\n",
      "남은 손님 수: 4명\n",
      "남은 손님 수: 3명\n",
      "남은 손님 수: 2명\n",
      "남은 손님 수: 1명\n",
      "오늘의 영업이 끝낫습니다!\n"
     ]
    }
   ],
   "source": [
    "customers = 5\n",
    "\n",
    "while customers > 0:\n",
    "    print(f\"남은 손님 수: {customers}명\")\n",
    "    customers -= 1\n",
    "print(\"오늘의 영업이 끝낫습니다!\")"
   ]
  },
  {
   "cell_type": "markdown",
   "metadata": {},
   "source": [
    "## **문제 9: 알바비 계산하기**\n",
    "\n",
    "**\"다람쥐는 일한 시간만큼 알바비를 계산합니다.\"**\n",
    "\n",
    "다람쥐의 시급은 **1시간에 1000원**입니다.\n",
    "\n",
    "1. 변수 `work_hours`에 일한 시간(정수)을 입력받으세요.\n",
    "2. `while`문을 사용해 일한 시간만큼 반복하며 `pay`에 시급을 더하세요.\n",
    "3. 최종 알바비를 **\"오늘의 알바비는 [pay]원입니다.\"**로 출력하세요."
   ]
  },
  {
   "cell_type": "code",
   "execution_count": null,
   "metadata": {},
   "outputs": [
    {
     "name": "stdout",
     "output_type": "stream",
     "text": [
      "오늘의 알바비는 1000원입니다.\n",
      "오늘의 알바비는 2000원입니다.\n",
      "오늘의 알바비는 3000원입니다.\n",
      "오늘의 알바비는 4000원입니다.\n",
      "오늘의 알바비는 5000원입니다.\n",
      "오늘의 알바비는 6000원입니다.\n",
      "오늘의 알바비는 7000원입니다.\n",
      "오늘의 알바비는 8000원입니다.\n",
      "오늘의 알바비는 9000원입니다.\n",
      "오늘의 알바비는 10000원입니다.\n"
     ]
    }
   ],
   "source": [
    "work_hours = int(input(\"일한 시간을 입력하세요: \"))\n",
    "pay = 0\n",
    "while work_hours > 0:\n",
    "    pay += 1000\n",
    "    print(f\"오늘의 알바비는 {pay}원입니다.\")\n",
    "    work_hours -= 1"
   ]
  },
  {
   "cell_type": "code",
   "execution_count": 13,
   "metadata": {},
   "outputs": [
    {
     "name": "stdout",
     "output_type": "stream",
     "text": [
      "오늘의 알바비는 1000원입니다.\n",
      "오늘의 알바비는 2000원입니다.\n",
      "오늘의 알바비는 3000원입니다.\n",
      "오늘의 알바비는 4000원입니다.\n",
      "오늘의 알바비는 5000원입니다.\n",
      "오늘의 알바비는 6000원입니다.\n",
      "오늘의 알바비는 7000원입니다.\n",
      "오늘의 알바비는 8000원입니다.\n",
      "오늘의 알바비는 9000원입니다.\n",
      "오늘의 알바비는 10000원입니다.\n"
     ]
    }
   ],
   "source": [
    "work_hours = int(input(\"일한 시간을 입력하세요: \"))\n",
    "pay = 0\n",
    "tmp_hours = 0\n",
    "while work_hours > tmp_hours:\n",
    "    pay += 1000\n",
    "    tmp_hours += 1\n",
    "    print(f\"오늘의 알바비는 {pay}원입니다.\")"
   ]
  },
  {
   "cell_type": "code",
   "execution_count": null,
   "metadata": {},
   "outputs": [],
   "source": [
    "work_hours = int(input(\"일한 시간을 입력하세요: \"))\n",
    "pay = 0\n",
    "while work_hours > 0:\n",
    "    pay += 1000\n",
    "    print(f\"오늘의 알바비는 {pay}원입니다.\")\n",
    "    work_hours -= 1"
   ]
  }
 ],
 "metadata": {
  "kernelspec": {
   "display_name": "pystudy_env",
   "language": "python",
   "name": "python3"
  },
  "language_info": {
   "codemirror_mode": {
    "name": "ipython",
    "version": 3
   },
   "file_extension": ".py",
   "mimetype": "text/x-python",
   "name": "python",
   "nbconvert_exporter": "python",
   "pygments_lexer": "ipython3",
   "version": "3.12.8"
  }
 },
 "nbformat": 4,
 "nbformat_minor": 2
}
