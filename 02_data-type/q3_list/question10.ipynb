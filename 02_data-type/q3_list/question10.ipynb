{
 "cells": [
  {
   "cell_type": "markdown",
   "metadata": {},
   "source": [
    "### **문제 10**\n",
    "\n",
    "아래 조건에 맞는 프로그램을 작성하세요.\n",
    "\n",
    "1. 리스트 `numbers`에 숫자 `1, 2, 3, 4, 5`를 저장하세요.\n",
    "2. 슬라이싱을 이용하여 다음을 수행하세요:\n",
    "    - 리스트의 **처음 3개의 요소**를 출력하세요.\n",
    "    - 리스트의 **마지막 2개의 요소**를 출력하세요.\n",
    "    - 리스트의 **모든 요소를 역순**으로 출력하세요."
   ]
  },
  {
   "cell_type": "code",
   "execution_count": 2,
   "metadata": {},
   "outputs": [
    {
     "name": "stdout",
     "output_type": "stream",
     "text": [
      "[1, 2, 3]\n",
      "[4, 5]\n",
      "[5, 4, 3, 2, 1]\n"
     ]
    }
   ],
   "source": [
    "# list의 요소를 원하는 부분만 볼 수 있도록 슬라이딩 사용\n",
    "\n",
    "numbers = [1, 2, 3, 4, 5]\n",
    "print(numbers[0:3])\n",
    "print(numbers[3:5])\n",
    "numbers.sort(reverse=True)\n",
    "print(numbers)\n"
   ]
  }
 ],
 "metadata": {
  "kernelspec": {
   "display_name": "pystudy_env",
   "language": "python",
   "name": "python3"
  },
  "language_info": {
   "codemirror_mode": {
    "name": "ipython",
    "version": 3
   },
   "file_extension": ".py",
   "mimetype": "text/x-python",
   "name": "python",
   "nbconvert_exporter": "python",
   "pygments_lexer": "ipython3",
   "version": "3.12.8"
  }
 },
 "nbformat": 4,
 "nbformat_minor": 2
}
