{
 "cells": [
  {
   "cell_type": "markdown",
   "metadata": {},
   "source": [
    "### **문제 9**\n",
    "\n",
    "아래 조건에 맞게 리스트와 문자열을 활용하세요.\n",
    "\n",
    "1. 리스트 `words`에 `'Life', 'is', 'too', 'short'`를 저장하세요.\n",
    "2. 리스트의 요소를 공백으로 이어붙여 문자열 `'Life is too short'`를 출력하세요."
   ]
  },
  {
   "cell_type": "code",
   "execution_count": 3,
   "metadata": {},
   "outputs": [
    {
     "name": "stdout",
     "output_type": "stream",
     "text": [
      "Life is too short\n"
     ]
    }
   ],
   "source": [
    "# .join 메서드를 이용해 문자열 list를 하나의 문자열로 만듦듦\n",
    "\n",
    "words = ['Life', 'is', 'too', 'short']\n",
    "print(' '.join(words))\n",
    "\n",
    "# print(f\"{words[0]} {words[1]} {words[2]} {words[3]}\")"
   ]
  }
 ],
 "metadata": {
  "kernelspec": {
   "display_name": "pystudy_env",
   "language": "python",
   "name": "python3"
  },
  "language_info": {
   "codemirror_mode": {
    "name": "ipython",
    "version": 3
   },
   "file_extension": ".py",
   "mimetype": "text/x-python",
   "name": "python",
   "nbconvert_exporter": "python",
   "pygments_lexer": "ipython3",
   "version": "3.12.8"
  }
 },
 "nbformat": 4,
 "nbformat_minor": 2
}
