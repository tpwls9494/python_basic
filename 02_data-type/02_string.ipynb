{
 "cells": [
  {
   "cell_type": "markdown",
   "metadata": {},
   "source": [
    "### 문자형(문자열)"
   ]
  },
  {
   "cell_type": "code",
   "execution_count": 4,
   "metadata": {},
   "outputs": [
    {
     "name": "stdout",
     "output_type": "stream",
     "text": [
      "sj jy err\"\n"
     ]
    }
   ],
   "source": [
    "my_name = 'sj'\n",
    "your_name = 'jy'\n",
    "error_name = 'err\"'\n",
    "print(my_name, your_name, error_name)"
   ]
  },
  {
   "cell_type": "code",
   "execution_count": 5,
   "metadata": {},
   "outputs": [
    {
     "data": {
      "text/plain": [
       "str"
      ]
     },
     "execution_count": 5,
     "metadata": {},
     "output_type": "execute_result"
    }
   ],
   "source": [
    "type(my_name)"
   ]
  },
  {
   "cell_type": "markdown",
   "metadata": {},
   "source": [
    "### 문자형의 연산"
   ]
  },
  {
   "cell_type": "code",
   "execution_count": 16,
   "metadata": {},
   "outputs": [
    {
     "name": "stdout",
     "output_type": "stream",
     "text": [
      "오늘의 점심 메뉴는?포케\n",
      "오늘의 점심 메뉴는?오늘의 점심 메뉴는?오늘의 점심 메뉴는?\n"
     ]
    }
   ],
   "source": [
    "str1 = \"오늘의 점심 메뉴는?\"\n",
    "str2 = \"포케\"\n",
    "\n",
    "print(str1 + str2)\n",
    "# print(str1 - str2)\n",
    "# print(str1 * str2)\n",
    "print(str2 * 3)"
   ]
  },
  {
   "cell_type": "markdown",
   "metadata": {},
   "source": [
    "### 포맷팅 (f-string)"
   ]
  },
  {
   "cell_type": "code",
   "execution_count": null,
   "metadata": {},
   "outputs": [
    {
     "name": "stdout",
     "output_type": "stream",
     "text": [
      "다람쥐는 겨울철 양식으로 도토리 100개를 쿠팡했습니다.\n",
      "다람쥐는 겨울철 양식으로 도토리 100 개를 쿠팡했습니다.\n",
      "다람쥐는 겨울철 양식으로 도토리 100개를 쿠팡했습니다.\n"
     ]
    }
   ],
   "source": [
    "food = '도토리'\n",
    "count = 100\n",
    "print(f'다람쥐는 겨울철 양식으로 {food} {count}개를 쿠팡했습니다.')\n",
    "print('다람쥐는 겨울철 양식으로', food, count, '개를 쿠팡했습니다.')\n",
    "\n",
    "result_str = f'다람쥐는 겨울철 양식으로 {food} {count}개를 쿠팡했습니다.'\n",
    "print(result_str)"
   ]
  }
 ],
 "metadata": {
  "kernelspec": {
   "display_name": "base",
   "language": "python",
   "name": "python3"
  },
  "language_info": {
   "codemirror_mode": {
    "name": "ipython",
    "version": 3
   },
   "file_extension": ".py",
   "mimetype": "text/x-python",
   "name": "python",
   "nbconvert_exporter": "python",
   "pygments_lexer": "ipython3",
   "version": "3.12.7"
  }
 },
 "nbformat": 4,
 "nbformat_minor": 2
}
