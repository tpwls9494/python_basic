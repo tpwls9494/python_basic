{
 "cells": [
  {
   "cell_type": "markdown",
   "metadata": {},
   "source": [
    "### **문제 5**\n",
    "\n",
    "아래 조건에 맞게 딕셔너리를 수정하세요.\n",
    "\n",
    "1. `scores`라는 딕셔너리에 `'math': 80, 'english': 90`을 저장하세요.\n",
    "2. `'math'`의 값을 `95`로 변경하고 딕셔너리를 출력하세요."
   ]
  },
  {
   "cell_type": "code",
   "execution_count": 1,
   "metadata": {},
   "outputs": [
    {
     "data": {
      "text/plain": [
       "{'math': 95, 'english': 90}"
      ]
     },
     "execution_count": 1,
     "metadata": {},
     "output_type": "execute_result"
    }
   ],
   "source": [
    "# 딕셔너리 값 수정\n",
    "\n",
    "scores = {\n",
    "    'math' : 80,\n",
    "    'english' : 90\n",
    "}\n",
    "scores['math'] = 95\n",
    "scores"
   ]
  }
 ],
 "metadata": {
  "kernelspec": {
   "display_name": "pystudy_env",
   "language": "python",
   "name": "python3"
  },
  "language_info": {
   "codemirror_mode": {
    "name": "ipython",
    "version": 3
   },
   "file_extension": ".py",
   "mimetype": "text/x-python",
   "name": "python",
   "nbconvert_exporter": "python",
   "pygments_lexer": "ipython3",
   "version": "3.12.8"
  }
 },
 "nbformat": 4,
 "nbformat_minor": 2
}
