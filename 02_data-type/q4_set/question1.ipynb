{
 "cells": [
  {
   "cell_type": "markdown",
   "metadata": {},
   "source": [
    "### **문제 1**\n",
    "\n",
    "다음 조건에 맞는 **셋**을 생성하세요.\n",
    "\n",
    "1. `fruits`라는 셋을 선언하고 `'apple', 'banana', 'cherry'`를 추가하세요.\n",
    "2. `print()`를 사용하여 `fruits`를 출력하세요."
   ]
  },
  {
   "cell_type": "code",
   "execution_count": 4,
   "metadata": {},
   "outputs": [
    {
     "name": "stdout",
     "output_type": "stream",
     "text": [
      "{'cherry', 'apple', 'banana'}\n"
     ]
    }
   ],
   "source": [
    "# set은 순서가 제각각이므로 원소의 위치가 다르다\n",
    "\n",
    "fruits = {'apple', 'banana', 'cherry'}\n",
    "print(fruits)"
   ]
  }
 ],
 "metadata": {
  "kernelspec": {
   "display_name": "pystudy_env",
   "language": "python",
   "name": "python3"
  },
  "language_info": {
   "codemirror_mode": {
    "name": "ipython",
    "version": 3
   },
   "file_extension": ".py",
   "mimetype": "text/x-python",
   "name": "python",
   "nbconvert_exporter": "python",
   "pygments_lexer": "ipython3",
   "version": "3.12.8"
  }
 },
 "nbformat": 4,
 "nbformat_minor": 2
}
