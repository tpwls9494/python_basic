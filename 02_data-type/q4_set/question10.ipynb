{
 "cells": [
  {
   "cell_type": "markdown",
   "metadata": {},
   "source": [
    "### **문제 10**\n",
    "\n",
    "다음 조건에 맞는 프로그램을 작성하세요.\n",
    "\n",
    "1. 두 셋 `A = {1, 2, 3, 4}`와 `B = {3, 4, 5, 6}`가 있습니다.\n",
    "2. `A`와 `B`의 **대칭 차집합**을 구하세요.\n",
    "3. 결과를 `print()`를 사용해 출력하세요"
   ]
  },
  {
   "cell_type": "code",
   "execution_count": 3,
   "metadata": {},
   "outputs": [
    {
     "name": "stdout",
     "output_type": "stream",
     "text": [
      "{1, 2, 5, 6}\n",
      "{1, 2, 5, 6}\n"
     ]
    }
   ],
   "source": [
    "# set의 대칭 차집합\n",
    "\n",
    "A = {1, 2, 3, 4}\n",
    "B = {3, 4, 5, 6}\n",
    "print(A ^ B)\n",
    "print(A.symmetric_difference(B))\n"
   ]
  }
 ],
 "metadata": {
  "kernelspec": {
   "display_name": "pystudy_env",
   "language": "python",
   "name": "python3"
  },
  "language_info": {
   "codemirror_mode": {
    "name": "ipython",
    "version": 3
   },
   "file_extension": ".py",
   "mimetype": "text/x-python",
   "name": "python",
   "nbconvert_exporter": "python",
   "pygments_lexer": "ipython3",
   "version": "3.12.8"
  }
 },
 "nbformat": 4,
 "nbformat_minor": 2
}
