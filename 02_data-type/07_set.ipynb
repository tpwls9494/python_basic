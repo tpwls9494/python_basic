{
 "cells": [
  {
   "cell_type": "markdown",
   "metadata": {},
   "source": [
    "### 셋"
   ]
  },
  {
   "cell_type": "code",
   "execution_count": 2,
   "metadata": {},
   "outputs": [],
   "source": [
    "empty_set = set({})\n",
    "number_set = {1}\n",
    "anything = {2024, 12, 20, '오늘은 제어문 배우는 날', True}"
   ]
  },
  {
   "cell_type": "code",
   "execution_count": 3,
   "metadata": {},
   "outputs": [
    {
     "data": {
      "text/plain": [
       "set"
      ]
     },
     "execution_count": 3,
     "metadata": {},
     "output_type": "execute_result"
    }
   ],
   "source": [
    "type(empty_set)"
   ]
  },
  {
   "cell_type": "code",
   "execution_count": 8,
   "metadata": {},
   "outputs": [
    {
     "data": {
      "text/plain": [
       "{'monkey', 'sheep', 'squirrel', 'tiger'}"
      ]
     },
     "execution_count": 8,
     "metadata": {},
     "output_type": "execute_result"
    }
   ],
   "source": [
    "animals = {'squirrel', 'sheep', 'tiger', 'monkey', 'squirrel'}\n",
    "animals"
   ]
  },
  {
   "cell_type": "markdown",
   "metadata": {},
   "source": [
    "---\n",
    "### 셋의 집합 연산"
   ]
  },
  {
   "cell_type": "code",
   "execution_count": 10,
   "metadata": {},
   "outputs": [
    {
     "data": {
      "text/plain": [
       "{'bear', 'gorilla', 'racoon', 'sheep', 'squirrel'}"
      ]
     },
     "execution_count": 10,
     "metadata": {},
     "output_type": "execute_result"
    }
   ],
   "source": [
    "scd_animals = {\"squirrel\", \"sheep\", \"gorilla\", \"bear\", \"racoon\"}\n",
    "scd_animals"
   ]
  },
  {
   "cell_type": "code",
   "execution_count": 14,
   "metadata": {},
   "outputs": [
    {
     "name": "stdout",
     "output_type": "stream",
     "text": [
      "{'racoon', 'sheep', 'squirrel', 'monkey', 'tiger', 'bear', 'gorilla'}\n",
      "{'racoon', 'sheep', 'squirrel', 'monkey', 'tiger', 'bear', 'gorilla'}\n",
      "{'sheep', 'squirrel'}\n",
      "{'sheep', 'squirrel'}\n",
      "{'tiger', 'monkey'}\n",
      "{'tiger', 'monkey'}\n",
      "{'racoon', 'tiger', 'bear', 'gorilla', 'monkey'}\n",
      "{'racoon', 'tiger', 'bear', 'gorilla', 'monkey'}\n"
     ]
    }
   ],
   "source": [
    "# 합집합 union\n",
    "print(animals.union(scd_animals))\n",
    "print(animals | scd_animals)\n",
    "\n",
    "# 교집합 intersection\n",
    "print(animals.intersection(scd_animals))\n",
    "print(animals & scd_animals)\n",
    "\n",
    "# 차집합 difference\n",
    "print(animals.difference(scd_animals))\n",
    "print(animals - scd_animals)\n",
    "\n",
    "# 대칭차집합 symmetric_difference\n",
    "print(animals.symmetric_difference(scd_animals))\n",
    "print(animals ^ scd_animals)"
   ]
  }
 ],
 "metadata": {
  "kernelspec": {
   "display_name": "pystudy_env",
   "language": "python",
   "name": "python3"
  },
  "language_info": {
   "codemirror_mode": {
    "name": "ipython",
    "version": 3
   },
   "file_extension": ".py",
   "mimetype": "text/x-python",
   "name": "python",
   "nbconvert_exporter": "python",
   "pygments_lexer": "ipython3",
   "version": "3.12.8"
  }
 },
 "nbformat": 4,
 "nbformat_minor": 2
}
