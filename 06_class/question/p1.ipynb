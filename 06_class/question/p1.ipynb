{
 "cells": [
  {
   "cell_type": "markdown",
   "metadata": {},
   "source": [
    "### **문제 1: 클래스 속성, 인스턴스 속성 테스트**\n",
    "\n",
    "다람쥐는 이직 준비를 위해 자기소개서를 작성해야 합니다. `Squirrel`이라는 클래스를 만들어 다람쥐의 기본 정보를 설정하세요.\n",
    "\n",
    "1. 클래스 속성 `species`를 설정하여 \"다람쥐\"로 초기화하세요.\n",
    "2. 생성자를 통해 인스턴스 속성 `name`과 `current_job`을 설정하세요.\n",
    "3. 메서드 `introduce`를 만들어 이름과 현재 직업을 소개하는 문자열을 반환하세요.\n",
    "4. 다른 인스턴스를 생성해도 `species`는 공유되지만, `name`과 `current_job`은 서로 독립적임을 확인하세요."
   ]
  },
  {
   "cell_type": "code",
   "execution_count": 33,
   "metadata": {},
   "outputs": [
    {
     "name": "stdout",
     "output_type": "stream",
     "text": [
      "Hello I'm sj and my job is student 다람쥐\n",
      "Hello I'm js and my job is teacher 다람쥐\n"
     ]
    }
   ],
   "source": [
    "class Squirrel:\n",
    "    \n",
    "    species = \"다람쥐\"\n",
    "\n",
    "    def __init__(self, name, current_job):\n",
    "        self.name = name\n",
    "        self.current_job = current_job\n",
    "\n",
    "    def introduce(self):\n",
    "        return \"Hello I'm \" + self.name + \" and my job is \" + self.current_job + \" \" + self.species\n",
    "    \n",
    "s1 = Squirrel(\"sj\", \"student\")\n",
    "s2 = Squirrel(\"js\", \"teacher\")\n",
    "\n",
    "print(s1.introduce())\n",
    "print(s2.introduce())\n"
   ]
  },
  {
   "cell_type": "markdown",
   "metadata": {},
   "source": [
    "### **문제 2: 클래스 속성과 인스턴스 속성의 차이**\n",
    "\n",
    "다람쥐는 이직 준비를 하며 다양한 직업 스킬을 학습 중입니다. 클래스 속성과 인스턴스 속성의 차이를 확인하세요.\n",
    "\n",
    "1. `Character` 클래스를 생성하세요.\n",
    "2. 클래스 속성 `skills`를 정의하여 빈 리스트로 초기화하세요.\n",
    "3. 생성자에서 인스턴스 속성 `skills`를 별도로 초기화하세요.\n",
    "4. `add_skill` 메서드에서 클래스 속성이 아닌 인스턴스 속성에 스킬을 추가하도록 수정하세요."
   ]
  },
  {
   "cell_type": "code",
   "execution_count": 41,
   "metadata": {},
   "outputs": [
    {
     "name": "stdout",
     "output_type": "stream",
     "text": [
      "마법\n"
     ]
    }
   ],
   "source": [
    "class Character:\n",
    "\n",
    "    skills = []\n",
    "\n",
    "    def __init__(self, skills):\n",
    "        self.skills = skills\n",
    "\n",
    "def add_skill():\n",
    "    Character.skills = \"검술\"\n",
    "\n",
    "c = Character(\"마법\")\n",
    "print(c.skills)"
   ]
  },
  {
   "cell_type": "code",
   "execution_count": 43,
   "metadata": {},
   "outputs": [
    {
     "name": "stdout",
     "output_type": "stream",
     "text": [
      "[]\n",
      "['개발']\n"
     ]
    }
   ],
   "source": [
    "# T ans\n",
    "class Character:\n",
    "\n",
    "    skills = []\n",
    "\n",
    "    def __init__(self):\n",
    "        self.skills = []\n",
    "\n",
    "    def add_skill(self, skill):\n",
    "        self.skills.append(skill)\n",
    "\n",
    "c = Character()\n",
    "print(c.skills)\n",
    "\n",
    "c.add_skill(\"개발\")\n",
    "print(c.skills)"
   ]
  },
  {
   "cell_type": "markdown",
   "metadata": {},
   "source": [
    "### **문제 3: 인스턴스 속성과 클래스 속성의 우선순위**\n",
    "\n",
    "다람쥐는 이직을 위해 별명을 여러 개 사용합니다. 클래스 속성으로 `nickname`을 설정하지만, 각 인스턴스마다 별명을 변경할 수 있습니다.\n",
    "\n",
    "1. `Character` 클래스에 클래스 속성 `nickname`을 설정하세요.\n",
    "2. 생성자에서 인스턴스 속성 `nickname`을 설정하세요.\n",
    "3. 클래스 속성과 인스턴스 속성이 충돌할 때, 인스턴스 속성이 우선됨을 확인하세요."
   ]
  },
  {
   "cell_type": "code",
   "execution_count": 64,
   "metadata": {},
   "outputs": [
    {
     "name": "stdout",
     "output_type": "stream",
     "text": [
      "Squirrel\n",
      "sq\n"
     ]
    }
   ],
   "source": [
    "class Character:\n",
    "    nickname = \"sq\"\n",
    "    def __init__(self, nickname):\n",
    "        self.nickname = nickname\n",
    "\n",
    "c = Character(\"Squirrel\")\n",
    "print(c.nickname)\n",
    "# print(c.__class__.nickname) -> 클래스 속성 가져옴\n"
   ]
  },
  {
   "cell_type": "markdown",
   "metadata": {},
   "source": [
    "### **문제 4: 네임스페이스 테스트 - 전역과 로컬**\n",
    "\n",
    "다람쥐는 이직 준비 도구를 사용하며, 전역 변수와 로컬 변수를 관리합니다. `namespace_test` 함수를 작성해 네임스페이스를 테스트하세요.\n",
    "\n",
    "1. 전역 변수 `tool`을 \"연필\"로 설정하세요.\n",
    "2. 함수 `namespace_test` 내부에 로컬 변수 `tool`을 \"키보드\"로 설정하고, `global` 키워드를 사용해 전역 변수를 \"펜\"으로 수정하세요.\n",
    "3. 함수 내부에서 로컬 변수와 전역 변수의 값을 출력하세요."
   ]
  },
  {
   "cell_type": "code",
   "execution_count": 40,
   "metadata": {},
   "outputs": [
    {
     "name": "stdout",
     "output_type": "stream",
     "text": [
      "키보드 and 펜\n"
     ]
    }
   ],
   "source": [
    "# 클래스가 아니었기 때문에 틀림\n",
    "\n",
    "tool = \"연필\"\n",
    "\n",
    "class namespace_test:\n",
    "    local_tool = \"키보드\"\n",
    "\n",
    "    global tool\n",
    "    tool = \"펜\"\n",
    "\n",
    "    def make_tool(self):\n",
    "        return self.local_tool + \" and \"\n",
    "\n",
    "n = namespace_test()\n",
    "print(n.make_tool() + tool)"
   ]
  },
  {
   "cell_type": "code",
   "execution_count": 70,
   "metadata": {},
   "outputs": [
    {
     "name": "stdout",
     "output_type": "stream",
     "text": [
      "키보드\n",
      "펜\n"
     ]
    }
   ],
   "source": [
    "tool = \"연필\"\n",
    "\n",
    "def namespace_test():\n",
    "    local_tool = \"키보드\"\n",
    "\n",
    "    global tool\n",
    "    tool = \"펜\"\n",
    "\n",
    "    print(local_tool)\n",
    "    print(tool)\n",
    "\n",
    "namespace_test()"
   ]
  },
  {
   "cell_type": "markdown",
   "metadata": {},
   "source": [
    "### **문제 5: 네임스페이스 테스트 - 클래스와 인스턴스**\n",
    "\n",
    "다람쥐는 이직 준비 중 클래스를 통해 도구를 관리합니다. `Toolbox` 클래스를 만들어 네임스페이스를 테스트하세요.\n",
    "\n",
    "1. 클래스 속성 `tools`를 [\"노트북\", \"책상\"]으로 초기화하세요.\n",
    "2. 생성자를 통해 인스턴스 속성 `tools`를 설정하고, 객체마다 다른 도구를 가질 수 있도록 설정하세요.\n",
    "3. `add_tool` 메서드를 만들어 클래스 속성에 새 도구를 추가하세요."
   ]
  },
  {
   "cell_type": "code",
   "execution_count": 80,
   "metadata": {},
   "outputs": [
    {
     "name": "stdout",
     "output_type": "stream",
     "text": [
      "[]\n",
      "['노트북', '책상', '책']\n"
     ]
    }
   ],
   "source": [
    "class Toolbox:\n",
    "\n",
    "    tools = [\"노트북\", \"책상\"]\n",
    "\n",
    "    def __init__(self):\n",
    "        self.tools = []\n",
    "\n",
    "    def add_tool(self, tool):\n",
    "        __class__.tools.append(tool)\n",
    "\n",
    "t = Toolbox()\n",
    "t.add_tool(\"책\")\n",
    "print(t.tools)\n",
    "print(Toolbox.tools)\n"
   ]
  },
  {
   "cell_type": "code",
   "execution_count": 79,
   "metadata": {},
   "outputs": [
    {
     "name": "stdout",
     "output_type": "stream",
     "text": [
      "[]\n",
      "['노트북', '책상', '책']\n"
     ]
    }
   ],
   "source": [
    "class Toolbox:\n",
    "\n",
    "    tools = [\"노트북\", \"책상\"]\n",
    "\n",
    "    def __init__(self):\n",
    "        self.tools = []\n",
    "    \n",
    "    @classmethod\n",
    "    def add_tool(cls, tool):\n",
    "        cls.tools.append(tool)\n",
    "        \n",
    "t = Toolbox()\n",
    "t.add_tool(\"책\")\n",
    "print(t.tools)\n",
    "print(Toolbox.tools)"
   ]
  },
  {
   "cell_type": "markdown",
   "metadata": {},
   "source": [
    "### **문제 6: 네임스페이스 테스트 - nonlocal**\n",
    "\n",
    "다람쥐는 이직 준비 중 추가적인 정보가 필요합니다. 중첩 함수와 `nonlocal` 키워드를 사용해 바깥 함수의 변수를 수정하세요.\n",
    "\n",
    "1. 함수 `nested_function`을 작성하세요.\n",
    "2. 바깥 함수의 변수 `status`를 \"작성 중\"으로 초기화하세요.\n",
    "3. 중첩 함수에서 `status`를 \"완료\"로 수정하세요."
   ]
  },
  {
   "cell_type": "code",
   "execution_count": 69,
   "metadata": {},
   "outputs": [
    {
     "name": "stdout",
     "output_type": "stream",
     "text": [
      "작성 중\n",
      "완료\n"
     ]
    }
   ],
   "source": [
    "def outer_function():\n",
    "    status = \"작성 중\"\n",
    "\n",
    "    def nested_function():\n",
    "        nonlocal status\n",
    "        status = \"완료\"\n",
    "    \n",
    "    print(status)\n",
    "    \n",
    "    nested_function()\n",
    "    print(status)\n",
    "\n",
    "outer_function()\n"
   ]
  },
  {
   "cell_type": "code",
   "execution_count": 81,
   "metadata": {},
   "outputs": [
    {
     "name": "stdout",
     "output_type": "stream",
     "text": [
      "작성 중\n",
      "완료\n"
     ]
    }
   ],
   "source": [
    "def nested_function():\n",
    "\n",
    "    status = \"작성 중\"\n",
    "\n",
    "    def inner_function():\n",
    "        nonlocal status\n",
    "        status = \"완료\"\n",
    "    \n",
    "    print(status)\n",
    "    inner_function()\n",
    "    print(status)\n",
    "\n",
    "nested_function()"
   ]
  }
 ],
 "metadata": {
  "kernelspec": {
   "display_name": "pystudy_env",
   "language": "python",
   "name": "python3"
  },
  "language_info": {
   "codemirror_mode": {
    "name": "ipython",
    "version": 3
   },
   "file_extension": ".py",
   "mimetype": "text/x-python",
   "name": "python",
   "nbconvert_exporter": "python",
   "pygments_lexer": "ipython3",
   "version": "3.12.8"
  }
 },
 "nbformat": 4,
 "nbformat_minor": 2
}
