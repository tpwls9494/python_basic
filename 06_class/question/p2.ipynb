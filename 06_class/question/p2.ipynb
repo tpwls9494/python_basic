{
 "cells": [
  {
   "cell_type": "markdown",
   "metadata": {},
   "source": [
    "### 문제 1: **기본 상속을 활용한 클래스 생성**\n",
    "\n",
    "다람쥐는 이직을 준비하며 새로운 직업군을 탐색하고 있습니다. 다람쥐의 기본적인 정보를 담는 `Person` 클래스를 만들고, 이를 상속받는 `Candidate` 클래스를 생성하세요.\n",
    "\n",
    "1. `Person` 클래스:\n",
    "    - 클래스 속성 `national`은 \"Korea\"로 설정합니다.\n",
    "    - 메서드 `introduce`는 `\"안녕하세요, 저는 한국에서 왔습니다.\"`를 반환합니다.\n",
    "2. `Candidate` 클래스:\n",
    "    - `Person` 클래스를 상속받습니다.\n",
    "    - 생성자에서 이름(`name`)과 관심 분야(`field`)를 매개변수로 받아 저장합니다.\n",
    "    - 메서드 `introduce`를 오버라이드하여 `\"안녕하세요, 저는 [name]입니다. [field] 분야에 관심이 있습니다.\"`를 반환합니다."
   ]
  },
  {
   "cell_type": "code",
   "execution_count": 3,
   "metadata": {},
   "outputs": [
    {
     "name": "stdout",
     "output_type": "stream",
     "text": [
      "안녕하세요, 저는 sj입니다. AI 분야에 관심이 있습니다.\n"
     ]
    }
   ],
   "source": [
    "class Person:\n",
    "    national = \"Korea\"\n",
    "\n",
    "    def introduce(self):\n",
    "        return \"안녕하세요, 저는 한국에서 왔습니다.\"\n",
    "\n",
    "class Candidate(Person):\n",
    "    def __init__(self, name, field):\n",
    "        self.name = name\n",
    "        self.field = field\n",
    "\n",
    "    def introduce(self):\n",
    "        return f\"안녕하세요, 저는 {self.name}입니다. {self.field} 분야에 관심이 있습니다.\"\n",
    "\n",
    "c = Candidate(\"sj\", \"AI\")\n",
    "print(c.introduce())\n",
    "\n"
   ]
  },
  {
   "cell_type": "markdown",
   "metadata": {},
   "source": [
    "### 문제 2: **다중 상속을 활용한 클래스 생성**\n",
    "\n",
    "다람쥐는 이직을 준비하며 여러 강사님들의 도움을 받고 있습니다. 강사의 역할을 분리한 클래스를 만들어 상속 구조를 테스트하세요.\n",
    "\n",
    "1. `Mentor` 클래스:\n",
    "    - 메서드 `guide`는 `\"이직 준비를 도와드립니다.\"`를 반환합니다.\n",
    "2. `Lecturer` 클래스:\n",
    "    - 메서드 `teach`는 `\"이직에 필요한 기술을 가르쳐드립니다.\"`를 반환합니다.\n",
    "3. `Coach` 클래스:\n",
    "    - `Mentor`와 `Lecturer` 클래스를 다중 상속받습니다.\n",
    "    - 메서드 `support`는 `\"여러 방면으로 지원을 아끼지 않겠습니다.\"`를 반환합니다."
   ]
  },
  {
   "cell_type": "code",
   "execution_count": 15,
   "metadata": {},
   "outputs": [
    {
     "name": "stdout",
     "output_type": "stream",
     "text": [
      "여러 방면으로 지원을 아끼지 않겠습니다.\n",
      "이직에 필요한 기술을 가르쳐드립니다.\n",
      "이직 준비를 도와드립니다.\n"
     ]
    }
   ],
   "source": [
    "class Mentor:\n",
    "    def guide(self):\n",
    "        return \"이직 준비를 도와드립니다.\"\n",
    "    \n",
    "class Lecturer:\n",
    "    def teach(self):\n",
    "        return \"이직에 필요한 기술을 가르쳐드립니다.\"\n",
    "    \n",
    "class Coach(Mentor, Lecturer):\n",
    "    def support(self):\n",
    "        return \"여러 방면으로 지원을 아끼지 않겠습니다.\"\n",
    "\n",
    "c = Coach()\n",
    "\n",
    "print(c.support())\n",
    "print(c.teach())\n",
    "print(c.guide())"
   ]
  },
  {
   "cell_type": "markdown",
   "metadata": {},
   "source": [
    "### 문제 3: **부모 클래스 속성 오버라이딩**\n",
    "\n",
    "다람쥐는 이직 준비를 위해 개인적인 특성을 강조하고 있습니다. 부모 클래스의 메서드를 오버라이딩하여 각기 다른 인스턴스를 만들어보세요.\n",
    "\n",
    "1. `Person` 클래스:\n",
    "    - 속성 `name`과 `national`을 생성자로 받아 저장합니다.\n",
    "    - 메서드 `introduce`는 `\"안녕하세요, 저는 [name]입니다. 저는 [national]에서 왔습니다.\"`를 반환합니다.\n",
    "2. `Candidate` 클래스:\n",
    "    - `Person` 클래스를 상속받습니다.\n",
    "    - `introduce` 메서드를 오버라이드하여 `\"안녕하세요, 제 이름은 [name]이고, 이직 준비 중입니다.\"`를 반환합니다."
   ]
  },
  {
   "cell_type": "code",
   "execution_count": 28,
   "metadata": {},
   "outputs": [
    {
     "name": "stdout",
     "output_type": "stream",
     "text": [
      "안녕하세요, 저는 ab입니다. back-end 에서 왔습니다.\n",
      "안녕하세요, 저는 sj입니다. 이직 준비중입니다.\n"
     ]
    }
   ],
   "source": [
    "class Person:\n",
    "    def __init__(self, name, national):\n",
    "        self.name = name\n",
    "        self.national = national\n",
    "\n",
    "    def introduce(self):\n",
    "        return f\"안녕하세요, 저는 {self.name}입니다. {self.national} 에서 왔습니다.\"\n",
    "\n",
    "class Candidate(Person):\n",
    "\n",
    "    def introduce(self):\n",
    "        return f\"안녕하세요, 저는 {self.name}입니다. 이직 준비중입니다.\"\n",
    "\n",
    "c = Candidate(\"sj\", \"AI\")\n",
    "p = Person(\"ab\", \"back-end\")\n",
    "\n",
    "print(p.introduce())\n",
    "print(c.introduce())\n",
    "\n"
   ]
  },
  {
   "cell_type": "markdown",
   "metadata": {},
   "source": [
    "### 문제 4: **상속의 특성 통합 테스트**\n",
    "\n",
    "다람쥐는 강사님들의 지도를 받으며 다양한 분야에서 경험을 쌓고 있습니다. 상속과 메서드 오버라이딩, 다중 상속을 종합적으로 테스트하세요.\n",
    "\n",
    "1. `Mentor` 클래스:\n",
    "    - 속성 `field`를 생성자로 받아 저장합니다.\n",
    "    - 메서드 `guide`는 `\"저는 [field] 분야의 멘토입니다.\"`를 반환합니다.\n",
    "2. `Lecturer` 클래스:\n",
    "    - 속성 `experience`를 생성자로 받아 저장합니다.\n",
    "    - 메서드 `teach`는 `\"저는 [experience]년의 강의 경력을 가지고 있습니다.\"`를 반환합니다.\n",
    "3. `Candidate` 클래스:\n",
    "    - `Mentor`와 `Lecturer` 클래스를 다중 상속받습니다.\n",
    "    - `guide` 메서드를 오버라이드하여 `\"저는 [field] 분야의 강사이며, 이직 준비를 도와드립니다.\"`를 반환합니다."
   ]
  },
  {
   "cell_type": "code",
   "execution_count": 31,
   "metadata": {},
   "outputs": [
    {
     "name": "stdout",
     "output_type": "stream",
     "text": [
      "저는 자리의 멘토입니다.\n",
      "저는 10년의 강의 경력을 가지고 있습니다.\n",
      "저는 AI 분야의 강사이며, 이직 준비를 도와드립니다.\n",
      "저는 AI의 멘토입니다.\n"
     ]
    }
   ],
   "source": [
    "class Mentor:\n",
    "    def __init__(self, field):\n",
    "        self.field = field\n",
    "\n",
    "    def guide(self):\n",
    "        return f\"저는 {self.field}의 멘토입니다.\"\n",
    "    \n",
    "class Lecturer:\n",
    "    def __init__(self, experience):\n",
    "        self.experience = experience\n",
    "\n",
    "    def teach(self):\n",
    "        return f\"저는 {self.experience}년의 강의 경력을 가지고 있습니다.\"\n",
    "    \n",
    "class Coach(Mentor, Lecturer):\n",
    "    def support(self):\n",
    "        return f\"저는 {self.field} 분야의 강사이며, 이직 준비를 도와드립니다.\"\n",
    "\n",
    "m = Mentor('자리')\n",
    "l = Lecturer(10)\n",
    "c = Coach('AI')\n",
    "\n",
    "\n",
    "# print(m.support())\n",
    "# print(m.teach())\n",
    "print(m.guide())\n",
    "\n",
    "# print(l.support())\n",
    "print(l.teach())\n",
    "# print(l.guide())\n",
    "\n",
    "print(c.support())\n",
    "# print(c.teach())\n",
    "print(c.guide())"
   ]
  },
  {
   "cell_type": "code",
   "execution_count": 34,
   "metadata": {},
   "outputs": [
    {
     "name": "stdout",
     "output_type": "stream",
     "text": [
      "저는 자리의 멘토입니다.\n",
      "저는 10년의 강의 경력을 가지고 있습니다.\n",
      "저는 AI 분야의 강사이며, 이직 준비를 도와드립니다.\n",
      "저는 20년의 강의 경력을 가지고 있습니다.\n",
      "저는 AI의 멘토입니다.\n"
     ]
    }
   ],
   "source": [
    "class Mentor:\n",
    "    def __init__(self, field):\n",
    "        self.field = field\n",
    "\n",
    "    def guide(self):\n",
    "        return f\"저는 {self.field}의 멘토입니다.\"\n",
    "    \n",
    "class Lecturer:\n",
    "    def __init__(self, experience):\n",
    "        self.experience = experience\n",
    "\n",
    "    def teach(self):\n",
    "        return f\"저는 {self.experience}년의 강의 경력을 가지고 있습니다.\"\n",
    "    \n",
    "class Coach(Mentor, Lecturer):\n",
    "    def __init__(self, field, experience):\n",
    "        Mentor.__init__(self, field)\n",
    "        Lecturer.__init__(self, experience)\n",
    "\n",
    "    def support(self):\n",
    "        return f\"저는 {self.field} 분야의 강사이며, 이직 준비를 도와드립니다.\"\n",
    "\n",
    "m = Mentor('자리')\n",
    "l = Lecturer(10)\n",
    "c = Coach('AI', 20)\n",
    "\n",
    "\n",
    "# print(m.support())\n",
    "# print(m.teach())\n",
    "print(m.guide())\n",
    "\n",
    "# print(l.support())\n",
    "print(l.teach())\n",
    "# print(l.guide())\n",
    "\n",
    "print(c.support())\n",
    "print(c.teach())\n",
    "print(c.guide())"
   ]
  }
 ],
 "metadata": {
  "kernelspec": {
   "display_name": "pystudy_env",
   "language": "python",
   "name": "python3"
  },
  "language_info": {
   "codemirror_mode": {
    "name": "ipython",
    "version": 3
   },
   "file_extension": ".py",
   "mimetype": "text/x-python",
   "name": "python",
   "nbconvert_exporter": "python",
   "pygments_lexer": "ipython3",
   "version": "3.12.8"
  }
 },
 "nbformat": 4,
 "nbformat_minor": 2
}
