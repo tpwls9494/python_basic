{
 "cells": [
  {
   "cell_type": "markdown",
   "metadata": {},
   "source": [
    "### 클래스"
   ]
  },
  {
   "cell_type": "code",
   "execution_count": 17,
   "metadata": {},
   "outputs": [],
   "source": [
    "class Student:\n",
    "\n",
    "    # 1. 클래스 속성\n",
    "    dream = \"취업\"\n",
    "\n",
    "    # 2. 생성자\n",
    "    def __init__(self, name, phone):\n",
    "        self.name = name\n",
    "        self.phone = phone\n",
    "\n",
    "    \n",
    "    # 3. 메서드\n",
    "    def study(self):\n",
    "        print(\"오늘도 열심히 공부하는 9기생 화이팅!\")"
   ]
  },
  {
   "cell_type": "code",
   "execution_count": 20,
   "metadata": {},
   "outputs": [
    {
     "name": "stdout",
     "output_type": "stream",
     "text": [
      "취업\n",
      "이세진\n",
      "010-xxxx-xxxx\n",
      "오늘도 열심히 공부하는 9기생 화이팅!\n"
     ]
    }
   ],
   "source": [
    "student = Student('이세진', '010-xxxx-xxxx')\n",
    "\n",
    "print(student.dream)\n",
    "print(student.name)\n",
    "print(student.phone)\n",
    "student.study()"
   ]
  },
  {
   "cell_type": "markdown",
   "metadata": {},
   "source": [
    "---"
   ]
  },
  {
   "cell_type": "code",
   "execution_count": 37,
   "metadata": {},
   "outputs": [],
   "source": [
    "class Student:\n",
    "\n",
    "# 1. 클래스 속성\n",
    "    dream = [\"취업\"]\n",
    "    name = ''\n",
    "    phone = ''\n",
    "\n",
    "# 3. 메서드\n",
    "    def study(self):\n",
    "        print(\"오늘도 열심히 공부하는 9기생 화이팅!\")\n",
    "\n",
    "    def introduce(self):\n",
    "        print(f\"저는 {self.name}이구요. 전화번호는 {self.phone}입니다. 이루고 싶은 목표는 {self.dream}입니다.\")\n",
    "    "
   ]
  },
  {
   "cell_type": "code",
   "execution_count": 38,
   "metadata": {},
   "outputs": [
    {
     "name": "stdout",
     "output_type": "stream",
     "text": [
      "저는 이구요. 전화번호는 입니다. 이루고 싶은 목표는 ['취업']입니다.\n",
      "저는 이세진이구요. 전화번호는 010-xxxx-xxxx입니다. 이루고 싶은 목표는 ['취업', '창업']입니다.\n",
      "저는 남윤진이구요. 전화번호는 010-1xxx-xxxx입니다. 이루고 싶은 목표는 ['취업', '창업']입니다.\n",
      "저는 이세진이구요. 전화번호는 010-xxxx-xxxx입니다. 이루고 싶은 목표는 ['취업', '창업']입니다.\n"
     ]
    }
   ],
   "source": [
    "student1 = Student()\n",
    "student2 = Student()\n",
    "\n",
    "student1.introduce()\n",
    "student1.name = '이세진'\n",
    "student1.phone = '010-xxxx-xxxx'\n",
    "student1.dream.append('창업')\n",
    "student1.introduce()\n",
    "\n",
    "student2.name = '남윤진'\n",
    "student2.phone = '010-1xxx-xxxx'\n",
    "student2.introduce()\n",
    "\n",
    "student1.introduce()"
   ]
  },
  {
   "cell_type": "code",
   "execution_count": 39,
   "metadata": {},
   "outputs": [],
   "source": [
    "class Student:\n",
    "\n",
    "# 1. 클래스 속성\n",
    "    def __init__(self, name, phone):\n",
    "        self.dream = [\"취업\"]\n",
    "        self.name = name\n",
    "        self.phone = phone\n",
    "\n",
    "# 3. 메서드\n",
    "    def study(self):\n",
    "        print(\"오늘도 열심히 공부하는 9기생 화이팅!\")\n",
    "\n",
    "    def introduce(self):\n",
    "        print(f\"저는 {self.name}이구요. 전화번호는 {self.phone}입니다. 이루고 싶은 목표는 {self.dream}입니다.\")\n",
    "    "
   ]
  },
  {
   "cell_type": "code",
   "execution_count": 41,
   "metadata": {},
   "outputs": [
    {
     "name": "stdout",
     "output_type": "stream",
     "text": [
      "저는 이세진이구요. 전화번호는 010-xxxx-xxxx입니다. 이루고 싶은 목표는 ['취업']입니다.\n",
      "저는 이세진이구요. 전화번호는 010-xxxx-xxxx입니다. 이루고 싶은 목표는 ['취업', '창업']입니다.\n",
      "저는 남윤진이구요. 전화번호는 010-0xxx-xxxx입니다. 이루고 싶은 목표는 ['취업']입니다.\n",
      "저는 이세진이구요. 전화번호는 010-xxxx-xxxx입니다. 이루고 싶은 목표는 ['취업', '창업']입니다.\n"
     ]
    }
   ],
   "source": [
    "student1 = Student('이XX', '010-xxxx-xxxx')\n",
    "student2 = Student('남XX', '010-0xxx-xxxx')\n",
    "\n",
    "student1.introduce()\n",
    "student1.dream.append('창업')\n",
    "student1.introduce()\n",
    "\n",
    "student2.introduce()\n",
    "\n",
    "student1.introduce()"
   ]
  }
 ],
 "metadata": {
  "kernelspec": {
   "display_name": "pystudy_env",
   "language": "python",
   "name": "python3"
  },
  "language_info": {
   "codemirror_mode": {
    "name": "ipython",
    "version": 3
   },
   "file_extension": ".py",
   "mimetype": "text/x-python",
   "name": "python",
   "nbconvert_exporter": "python",
   "pygments_lexer": "ipython3",
   "version": "3.12.8"
  }
 },
 "nbformat": 4,
 "nbformat_minor": 2
}
