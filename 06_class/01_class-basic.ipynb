{
 "cells": [
  {
   "cell_type": "markdown",
   "metadata": {},
   "source": [
    "### 클래스"
   ]
  },
  {
   "cell_type": "code",
   "execution_count": 17,
   "metadata": {},
   "outputs": [],
   "source": [
    "class Student:\n",
    "\n",
    "    # 1. 클래스 속성\n",
    "    dream = \"취업\"\n",
    "\n",
    "    # 2. 생성자\n",
    "    def __init__(self, name, phone):\n",
    "        self.name = name\n",
    "        self.phone = phone\n",
    "\n",
    "    \n",
    "    # 3. 메서드\n",
    "    def study(self):\n",
    "        print(\"오늘도 열심히 공부하는 9기생 화이팅!\")"
   ]
  },
  {
   "cell_type": "code",
   "execution_count": 20,
   "metadata": {},
   "outputs": [
    {
     "name": "stdout",
     "output_type": "stream",
     "text": [
      "취업\n",
      "이세진\n",
      "010-xxxx-xxxx\n",
      "오늘도 열심히 공부하는 9기생 화이팅!\n"
     ]
    }
   ],
   "source": [
    "student = Student('이세진', '010-xxxx-xxxx')\n",
    "\n",
    "print(student.dream)\n",
    "print(student.name)\n",
    "print(student.phone)\n",
    "student.study()"
   ]
  },
  {
   "cell_type": "markdown",
   "metadata": {},
   "source": [
    "---"
   ]
  },
  {
   "cell_type": "code",
   "execution_count": 37,
   "metadata": {},
   "outputs": [],
   "source": [
    "class Student:\n",
    "\n",
    "# 1. 클래스 속성\n",
    "    dream = [\"취업\"]\n",
    "    name = ''\n",
    "    phone = ''\n",
    "\n",
    "# 3. 메서드\n",
    "    def study(self):\n",
    "        print(\"오늘도 열심히 공부하는 9기생 화이팅!\")\n",
    "\n",
    "    def introduce(self):\n",
    "        print(f\"저는 {self.name}이구요. 전화번호는 {self.phone}입니다. 이루고 싶은 목표는 {self.dream}입니다.\")\n",
    "    "
   ]
  },
  {
   "cell_type": "code",
   "execution_count": 38,
   "metadata": {},
   "outputs": [
    {
     "name": "stdout",
     "output_type": "stream",
     "text": [
      "저는 이구요. 전화번호는 입니다. 이루고 싶은 목표는 ['취업']입니다.\n",
      "저는 이세진이구요. 전화번호는 010-xxxx-xxxx입니다. 이루고 싶은 목표는 ['취업', '창업']입니다.\n",
      "저는 남윤진이구요. 전화번호는 010-1xxx-xxxx입니다. 이루고 싶은 목표는 ['취업', '창업']입니다.\n",
      "저는 이세진이구요. 전화번호는 010-xxxx-xxxx입니다. 이루고 싶은 목표는 ['취업', '창업']입니다.\n"
     ]
    }
   ],
   "source": [
    "student1 = Student()\n",
    "student2 = Student()\n",
    "\n",
    "student1.introduce()\n",
    "student1.name = '이세진'\n",
    "student1.phone = '010-xxxx-xxxx'\n",
    "student1.dream.append('창업')\n",
    "student1.introduce()\n",
    "\n",
    "student2.name = '남윤진'\n",
    "student2.phone = '010-1xxx-xxxx'\n",
    "student2.introduce()\n",
    "\n",
    "student1.introduce()"
   ]
  },
  {
   "cell_type": "code",
   "execution_count": 39,
   "metadata": {},
   "outputs": [],
   "source": [
    "class Student:\n",
    "\n",
    "# 1. 클래스 속성\n",
    "    def __init__(self, name, phone):\n",
    "        self.dream = [\"취업\"]\n",
    "        self.name = name\n",
    "        self.phone = phone\n",
    "\n",
    "# 3. 메서드\n",
    "    def study(self):\n",
    "        print(\"오늘도 열심히 공부하는 9기생 화이팅!\")\n",
    "\n",
    "    def introduce(self):\n",
    "        print(f\"저는 {self.name}이구요. 전화번호는 {self.phone}입니다. 이루고 싶은 목표는 {self.dream}입니다.\")\n",
    "    "
   ]
  },
  {
   "cell_type": "code",
   "execution_count": 41,
   "metadata": {},
   "outputs": [
    {
     "name": "stdout",
     "output_type": "stream",
     "text": [
      "저는 이세진이구요. 전화번호는 010-xxxx-xxxx입니다. 이루고 싶은 목표는 ['취업']입니다.\n",
      "저는 이세진이구요. 전화번호는 010-xxxx-xxxx입니다. 이루고 싶은 목표는 ['취업', '창업']입니다.\n",
      "저는 남윤진이구요. 전화번호는 010-0xxx-xxxx입니다. 이루고 싶은 목표는 ['취업']입니다.\n",
      "저는 이세진이구요. 전화번호는 010-xxxx-xxxx입니다. 이루고 싶은 목표는 ['취업', '창업']입니다.\n"
     ]
    }
   ],
   "source": [
    "student1 = Student('이XX', '010-xxxx-xxxx')\n",
    "student2 = Student('남XX', '010-0xxx-xxxx')\n",
    "\n",
    "student1.introduce()\n",
    "student1.dream.append('창업')\n",
    "student1.introduce()\n",
    "\n",
    "student2.introduce()\n",
    "\n",
    "student1.introduce()"
   ]
  },
  {
   "cell_type": "code",
   "execution_count": 1,
   "metadata": {},
   "outputs": [
    {
     "name": "stdout",
     "output_type": "stream",
     "text": [
      "산골짜기다람쥐\n",
      "'Character' object has no attribute '__type'\n",
      "전사\n",
      "법사\n",
      "잘못된 캐릭터 타입을 선택하였습니다.\n"
     ]
    }
   ],
   "source": [
    "class Character:\n",
    "    def __init__(self, nickname, type):\n",
    "        self.nickname = nickname      # Public attribute\n",
    "        self.__type = type            # Private attribute\n",
    "\n",
    "    def get_type(self):\n",
    "        return self.__type\n",
    "\n",
    "    def set_type(self, type):\n",
    "        character_types = ['전사', '법사', '치유사']\n",
    "        for given_type in character_types:\n",
    "            if(type == given_type):\n",
    "                self.__type = type\n",
    "                return\n",
    "        \n",
    "        raise ValueError(\"잘못된 캐릭터 타입을 선택하였습니다.\")\n",
    "\n",
    "my_character = Character(\"산골짜기다람쥐\", \"전사\")\n",
    "\n",
    "print(my_character.nickname)    # 산골짜기다람쥐\n",
    "\n",
    "# Private attribute에 직접 접근 시도 (실패)\n",
    "try:\n",
    "    print(my_character.__type)    # 'Character' object has no attribute '__type'\n",
    "except AttributeError as e:\n",
    "    print(e)\n",
    "\n",
    "# Private attribute에 접근하는 public method 사용\n",
    "print(my_character.get_type())    # 전사\n",
    "\n",
    "# Public method를 통해 private attribute 수정\n",
    "my_character.set_type(\"법사\")\n",
    "print(my_character.get_type())    # 법사\n",
    "\n",
    "# 잘못된 값으로 수정 시도\n",
    "try:\n",
    "    my_character.set_type(\"흑마법사\")    # 잘못된 캐릭터 타입을 선택하였습니다.\n",
    "except ValueError as e:\n",
    "    print(e)\n"
   ]
  }
 ],
 "metadata": {
  "kernelspec": {
   "display_name": "pystudy_env",
   "language": "python",
   "name": "python3"
  },
  "language_info": {
   "codemirror_mode": {
    "name": "ipython",
    "version": 3
   },
   "file_extension": ".py",
   "mimetype": "text/x-python",
   "name": "python",
   "nbconvert_exporter": "python",
   "pygments_lexer": "ipython3",
   "version": "3.12.8"
  }
 },
 "nbformat": 4,
 "nbformat_minor": 2
}
