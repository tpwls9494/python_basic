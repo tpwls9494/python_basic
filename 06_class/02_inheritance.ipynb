{
 "cells": [
  {
   "cell_type": "markdown",
   "metadata": {},
   "source": [
    "### 상속"
   ]
  },
  {
   "cell_type": "code",
   "execution_count": 2,
   "metadata": {},
   "outputs": [],
   "source": [
    "class Person:\n",
    "\n",
    "    def __init__(self, name):\n",
    "        self.name = name\n",
    "    \n",
    "    def __str__(self):\n",
    "        return f'<Person {self.name}>'"
   ]
  },
  {
   "cell_type": "code",
   "execution_count": 3,
   "metadata": {},
   "outputs": [],
   "source": [
    "class Student(Person):\n",
    "\n",
    "    def __init__(self, name, phone, hobby):\n",
    "        # Person.__init__(name) 1. 부모클래스명.__inti__(self, ...)\n",
    "        super().__init__(name) # 2. 바로 부모클래스를 부름름\n",
    "        self.phone = phone\n",
    "        self.hobby = hobby\n",
    "    "
   ]
  },
  {
   "cell_type": "code",
   "execution_count": 6,
   "metadata": {},
   "outputs": [
    {
     "name": "stdout",
     "output_type": "stream",
     "text": [
      "홍길동\n",
      "<Person 홍길동>\n",
      "김두리 파이썬 공부하기 01000001111\n",
      "<Person 김두리>\n",
      "박또차 열심히 공부하기 01022223333\n",
      "<Person 박또차>\n"
     ]
    }
   ],
   "source": [
    "p1 = Person('홍길동')\n",
    "print(p1.name)\n",
    "print(p1)\n",
    "\n",
    "s1 = Student('김두리', '01000001111', '파이썬 공부하기')\n",
    "s2 = Student('박또차', \"01022223333\", \"열심히 공부하기\")\n",
    "\n",
    "print(s1.name, s1.hobby, s1.phone)\n",
    "print(s1)\n",
    "print(s2.name, s2.hobby, s2.phone)\n",
    "print(s2)"
   ]
  },
  {
   "cell_type": "markdown",
   "metadata": {},
   "source": [
    "---\n",
    "\n",
    "### 다중 상속"
   ]
  },
  {
   "cell_type": "code",
   "execution_count": 11,
   "metadata": {},
   "outputs": [],
   "source": [
    "class Person:\n",
    "    fingers = 10\n",
    "    eyes = 2\n",
    "\n",
    "    def introduce(self):\n",
    "        return '저는 사람입니다.'\n",
    "    \n",
    "class Animal:\n",
    "    fur = True\n",
    "\n",
    "    def introduce(self):\n",
    "        return \"저는 동물입니다.\"\n",
    "\n",
    "class BanInBanSu(Animal, Person):\n",
    "    pass"
   ]
  },
  {
   "cell_type": "code",
   "execution_count": 12,
   "metadata": {},
   "outputs": [
    {
     "name": "stdout",
     "output_type": "stream",
     "text": [
      "10 2 True\n",
      "저는 동물입니다.\n"
     ]
    }
   ],
   "source": [
    "b1 = BanInBanSu()\n",
    "\n",
    "print(b1.fingers, b1.eyes, b1.fur)\n",
    "print(b1.introduce())"
   ]
  },
  {
   "cell_type": "markdown",
   "metadata": {},
   "source": [
    "---\n",
    "\n",
    "### 오버라이딩"
   ]
  },
  {
   "cell_type": "code",
   "execution_count": 17,
   "metadata": {},
   "outputs": [],
   "source": [
    "class Animal:\n",
    "    species = \"동물\"\n",
    "\n",
    "    def introduce(self):\n",
    "        print(\"동물의 왕국에 오신 것을 환영합니다.\")\n",
    "\n",
    "class Mammalia(Animal):\n",
    "    species = \"포유류\"\n",
    "\n",
    "    def has_fur(self):\n",
    "        return True\n",
    "    \n",
    "class Squirrel(Mammalia):\n",
    "    name = \"다람쥐\"\n",
    "\n",
    "    def eat(self):\n",
    "        print(\"도토리는 맛있네\")\n",
    "\n",
    "class SquirrelTeacher(Squirrel):\n",
    "    def introduce(self):\n",
    "        print(\"안녕하세요 다람쥐 강사에요!\")\n"
   ]
  },
  {
   "cell_type": "code",
   "execution_count": 22,
   "metadata": {},
   "outputs": [
    {
     "name": "stdout",
     "output_type": "stream",
     "text": [
      "안녕하세요 다람쥐 강사에요!\n",
      "다람쥐\n",
      "도토리는 맛있네\n",
      "포유류\n",
      "True\n",
      "포유류\n",
      "안녕하세요 다람쥐 강사에요!\n"
     ]
    }
   ],
   "source": [
    "st = SquirrelTeacher()\n",
    "\n",
    "st.introduce()\n",
    "\n",
    "print(st.name)\n",
    "st.eat()\n",
    "\n",
    "print(st.species)\n",
    "print(st.has_fur())\n",
    "\n",
    "print(st.species)\n",
    "st.introduce()"
   ]
  }
 ],
 "metadata": {
  "kernelspec": {
   "display_name": "base",
   "language": "python",
   "name": "python3"
  },
  "language_info": {
   "codemirror_mode": {
    "name": "ipython",
    "version": 3
   },
   "file_extension": ".py",
   "mimetype": "text/x-python",
   "name": "python",
   "nbconvert_exporter": "python",
   "pygments_lexer": "ipython3",
   "version": "3.12.7"
  }
 },
 "nbformat": 4,
 "nbformat_minor": 2
}
