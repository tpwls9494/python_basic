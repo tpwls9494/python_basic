{
 "cells": [
  {
   "cell_type": "markdown",
   "metadata": {},
   "source": [
    "### 예외 처리"
   ]
  },
  {
   "cell_type": "code",
   "execution_count": 3,
   "metadata": {},
   "outputs": [],
   "source": [
    "class NotMyTeacher(Exception):\n",
    "    pass"
   ]
  },
  {
   "cell_type": "code",
   "execution_count": 7,
   "metadata": {},
   "outputs": [
    {
     "name": "stdout",
     "output_type": "stream",
     "text": [
      "정답입니다.\n"
     ]
    }
   ],
   "source": [
    "teacher_name = input(\"당신의 선생님 이름은 무엇입니까? \")\n",
    "\n",
    "if teacher_name == '다람쥐':\n",
    "    print('정답입니다.')\n",
    "else:\n",
    "    raise NotMyTeacher(\"틀렸습니다.\")\n",
    "\n"
   ]
  },
  {
   "cell_type": "code",
   "execution_count": 12,
   "metadata": {},
   "outputs": [
    {
     "name": "stdout",
     "output_type": "stream",
     "text": [
      "에러입니다.\n",
      "중단이 되지 않고 계속 이어집니다.\n"
     ]
    }
   ],
   "source": [
    "def check_teacher(teacher_name):\n",
    "    if teacher_name == '다람쥐':\n",
    "        print('정답입니다.')\n",
    "    else:\n",
    "        raise NotMyTeacher(\"틀렸습니다.\")\n",
    "\n",
    "try:\n",
    "    check_teacher(\"호랑이\")\n",
    "    check_teacher(\"다람쥐\")\n",
    "except:\n",
    "    print(\"에러입니다.\")\n",
    "\n",
    "print(\"중단이 되지 않고 계속 이어집니다.\")"
   ]
  },
  {
   "cell_type": "code",
   "execution_count": 16,
   "metadata": {},
   "outputs": [
    {
     "name": "stdout",
     "output_type": "stream",
     "text": [
      "12\n",
      "0으로는 나눌 수 없습니다.\n"
     ]
    }
   ],
   "source": [
    "try:\n",
    "    test_list = [2024, 12, 26]\n",
    "    print(test_list[1])\n",
    "\n",
    "    print(2024 / 0)\n",
    "except IndexError:\n",
    "    print(\"인덱싱 범위를 초과했습니다.\")\n",
    "except ZeroDivisionError:\n",
    "    print(\"0으로는 나눌 수 없습니다.\")"
   ]
  },
  {
   "cell_type": "code",
   "execution_count": 20,
   "metadata": {},
   "outputs": [
    {
     "name": "stdout",
     "output_type": "stream",
     "text": [
      "26\n",
      "2024.0\n",
      "else는 언제 실행될까요?\n",
      "finally는 언제 실행될까요?\n"
     ]
    }
   ],
   "source": [
    "try:\n",
    "    idx = int(input('index 숫자: '))\n",
    "    test_list = [2024, 12, 26]\n",
    "    print(test_list[idx])\n",
    "\n",
    "    num = int(input('나누는 숫자: '))\n",
    "    print(2024 / num)\n",
    "\n",
    "except IndexError:\n",
    "    print(\"인덱싱 범위를 초과했습니다.\")\n",
    "\n",
    "except ZeroDivisionError:\n",
    "    print(\"0으로는 나눌 수 없습니다.\")\n",
    "\n",
    "else:\n",
    "    print('else는 언제 실행될까요?')\n",
    "\n",
    "finally:\n",
    "    print('finally는 언제 실행될까요?')\n"
   ]
  }
 ],
 "metadata": {
  "kernelspec": {
   "display_name": "pystudy_env",
   "language": "python",
   "name": "python3"
  },
  "language_info": {
   "codemirror_mode": {
    "name": "ipython",
    "version": 3
   },
   "file_extension": ".py",
   "mimetype": "text/x-python",
   "name": "python",
   "nbconvert_exporter": "python",
   "pygments_lexer": "ipython3",
   "version": "3.12.8"
  }
 },
 "nbformat": 4,
 "nbformat_minor": 2
}
