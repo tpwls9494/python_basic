{
 "cells": [
  {
   "cell_type": "markdown",
   "metadata": {},
   "source": [
    "### 문제 1: **다람쥐의 팀원 소개 모듈**\n",
    "\n",
    "다람쥐는 대기업에 입사한 후, 팀원들의 역할을 소개하는 프로그램을 작성하려고 합니다. `team_module.py`라는 모듈을 생성하고 이를 사용해 아래 요구사항을 구현하세요.\n",
    "\n",
    "1. **`team_module.py` 내용**:\n",
    "    - 함수 `introduce_manager()`: \"저는 팀장입니다. 팀을 이끌고 있습니다.\" 반환\n",
    "    - 함수 `introduce_developer()`: \"저는 개발자입니다. LLM 서비스를 개발하고 있습니다.\" 반환\n",
    "    - 변수 `company`: \"주식회사 SQUIRREL\"\n",
    "2. 메인 스크립트에서 `team_module.py`를 불러와 아래와 같이 출력하세요:"
   ]
  },
  {
   "cell_type": "code",
   "execution_count": 20,
   "metadata": {},
   "outputs": [
    {
     "name": "stdout",
     "output_type": "stream",
     "text": [
      "안녕하세요, 주식회사 SQUIRREL입니다.\n",
      "저는 팀장입니다. 팀을 이끌고 있습니다.\n",
      "저는 개발자입니다. LLM 서비스를 개발하고 있습니다.\n"
     ]
    }
   ],
   "source": [
    "import team_module as tm\n",
    "\n",
    "print(f\"안녕하세요, {tm.company}입니다.\")\n",
    "print(tm.introduce_manager())\n",
    "print(tm.introduce_developer())"
   ]
  },
  {
   "cell_type": "markdown",
   "metadata": {},
   "source": [
    "### 문제 2: **다람쥐의 출퇴근 관리 모듈**\n",
    "\n",
    "다람쥐는 팀원들의 출퇴근 시간을 관리하는 프로그램을 작성하고자 합니다. `attendance_module.py`를 생성하고 이를 사용해 아래 요구사항을 구현하세요.\n",
    "\n",
    "1. **`attendance_module.py` 내용**:\n",
    "    - 함수 `record_attendance(name, time)`: \"{name}님이 {time}에 출근했습니다.\" 반환\n",
    "    - 함수 `record_leave(name, time)`: \"{name}님이 {time}에 퇴근했습니다.\" 반환\n",
    "2. 메인 스크립트에서 `attendance_module.py`를 불러와 아래와 같이 출력하세요:"
   ]
  },
  {
   "cell_type": "code",
   "execution_count": 4,
   "metadata": {},
   "outputs": [
    {
     "name": "stdout",
     "output_type": "stream",
     "text": [
      "sj님이 9:00에 출근했습니다.\n",
      "sj님이 18:00에 퇴근했습니다.\n"
     ]
    }
   ],
   "source": [
    "import attendance_module as at\n",
    "\n",
    "print(at.record_attendance(\"sj\", \"9:00\"))\n",
    "print(at.record_leave(\"sj\", \"18:00\"))"
   ]
  },
  {
   "cell_type": "markdown",
   "metadata": {},
   "source": [
    "### 문제 3: **다람쥐의 업무 진행 모듈**\n",
    "\n",
    "다람쥐는 팀에서 업무 진행 상황을 기록하는 프로그램을 작성하려 합니다. `task_module.py`를 생성하고 이를 사용해 아래 요구사항을 구현하세요.\n",
    "\n",
    "1. **`task_module.py` 내용**:\n",
    "    - 함수 `start_task(task_name)`: \"작업 '{task_name}'이(가) 시작되었습니다.\" 반환\n",
    "    - 함수 `complete_task(task_name)`: \"작업 '{task_name}'이(가) 완료되었습니다.\" 반환\n",
    "2. 메인 스크립트에서 `task_module.py`를 불러와 아래와 같이 출력하세요:"
   ]
  },
  {
   "cell_type": "code",
   "execution_count": 6,
   "metadata": {},
   "outputs": [
    {
     "name": "stdout",
     "output_type": "stream",
     "text": [
      "작업 '코드 리뷰'이(가) 시작되었습니다.\n",
      "작업 '코드 리뷰'이(가) 완료되었습니다.\n"
     ]
    }
   ],
   "source": [
    "import task_module as ta\n",
    "\n",
    "print(ta.start_task('코드 리뷰'))\n",
    "print(ta.complete_task('코드 리뷰'))"
   ]
  },
  {
   "cell_type": "markdown",
   "metadata": {},
   "source": [
    "### 문제 4: **내장 모듈을 활용한 다람쥐의 업무 효율성 계산**\n",
    "\n",
    "다람쥐는 자신의 업무 효율성을 계산하려고 합니다. `math` 모듈을 사용하여 아래 요구사항을 구현하세요.\n",
    "\n",
    "1. 매일 처리한 업무량을 기록한 배열이 [10, 12, 8, 15, 9]라면 평균 업무량을 출력하세요.\n",
    "2. 평균 업무량보다 많이 처리한 날의 개수를 계산하세요."
   ]
  },
  {
   "cell_type": "code",
   "execution_count": 18,
   "metadata": {},
   "outputs": [
    {
     "name": "stdout",
     "output_type": "stream",
     "text": [
      "2\n"
     ]
    }
   ],
   "source": [
    "import math\n",
    "\n",
    "arr = [10, 12, 8, 15, 9]\n",
    "avg = 0\n",
    "for num in arr:\n",
    "    avg += num\n",
    "avg /= len(arr)\n",
    "\n",
    "math.ceil(avg)\n",
    "\n",
    "day = 0\n",
    "\n",
    "for num in arr:\n",
    "    if avg <= num:\n",
    "        day += 1\n",
    "\n",
    "print(day)"
   ]
  },
  {
   "cell_type": "code",
   "execution_count": null,
   "metadata": {},
   "outputs": [],
   "source": [
    "# T ans\n",
    "import math\n",
    "\n",
    "# 1\n",
    "works = [10, 12, 8, 15, 9]\n",
    "work_avg = sum(avg) / len(works)\n",
    "print(work_avg)\n",
    "\n",
    "# 2\n",
    "work_avg = math.ceil(work_avg)\n",
    "\n",
    "# 코드 단축 시키는 방법법\n",
    "# cnt = 0\n",
    "# for work_time in works:\n",
    "#     if work_time > work_avg:\n",
    "#         cnt += 1\n",
    "\n",
    "cnt = sum(1 for work_time in works if work_time > work_avg)\n",
    "\n",
    "print(f\"평균 업무량보다 많이 처리한 날 : {cnt}\")"
   ]
  },
  {
   "cell_type": "markdown",
   "metadata": {},
   "source": [
    "### 문제 5: **내장 모듈을 활용한 다람쥐의 업무 보고서 작성**\n",
    "\n",
    "다람쥐는 팀원의 업무 보고서를 작성하려고 합니다. `datetime` 모듈을 사용하여 현재 날짜와 시간을 포함한 보고서를 생성하세요.\n",
    "\n",
    "1. 현재 날짜와 시간. 팀원 이름과 작업 내용을 출력하세요."
   ]
  },
  {
   "cell_type": "code",
   "execution_count": 26,
   "metadata": {},
   "outputs": [
    {
     "name": "stdout",
     "output_type": "stream",
     "text": [
      "[2024-12-26 10:42:39.729479] 다람쥐님이 작업 '코드 리뷰'을(를) 완료했습니다.\n"
     ]
    }
   ],
   "source": [
    "from datetime import datetime\n",
    "\n",
    "print(f\"[{datetime.now()}] 다람쥐님이 작업 '코드 리뷰'을(를) 완료했습니다.\")\n"
   ]
  },
  {
   "cell_type": "code",
   "execution_count": null,
   "metadata": {},
   "outputs": [],
   "source": [
    "import numpy\n",
    "import pandas"
   ]
  },
  {
   "cell_type": "code",
   "execution_count": 1,
   "metadata": {},
   "outputs": [],
   "source": [
    "!pip freeze > requirments2.txt"
   ]
  },
  {
   "cell_type": "code",
   "execution_count": 2,
   "metadata": {},
   "outputs": [
    {
     "name": "stderr",
     "output_type": "stream",
     "text": [
      "ERROR: Could not open requirements file: [Errno 2] No such file or directory: 'requirements.txt'\n"
     ]
    }
   ],
   "source": [
    "!pip install -r requirements.txt"
   ]
  }
 ],
 "metadata": {
  "kernelspec": {
   "display_name": "pystudy_test",
   "language": "python",
   "name": "python3"
  },
  "language_info": {
   "codemirror_mode": {
    "name": "ipython",
    "version": 3
   },
   "file_extension": ".py",
   "mimetype": "text/x-python",
   "name": "python",
   "nbconvert_exporter": "python",
   "pygments_lexer": "ipython3",
   "version": "3.12.8"
  }
 },
 "nbformat": 4,
 "nbformat_minor": 2
}
