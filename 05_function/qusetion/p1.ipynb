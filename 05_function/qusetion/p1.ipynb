{
 "cells": [
  {
   "cell_type": "markdown",
   "metadata": {},
   "source": [
    "## **문제 1: 자기소개 하기**\n",
    "\n",
    "**\"다람쥐는 IT 회사 첫 출근 날, 자기소개를 준비했다.\"**\n",
    "\n",
    "1. `introduce()`라는 함수를 만들어 **\"안녕하세요, 저는 다람쥐 신입사원입니다!\"**라는 메시지를 출력하세요.\n",
    "2. 함수를 호출하여 다람쥐의 자기소개를 출력하세요."
   ]
  },
  {
   "cell_type": "code",
   "execution_count": 8,
   "metadata": {},
   "outputs": [
    {
     "name": "stdout",
     "output_type": "stream",
     "text": [
      "안녕하세요, 저는 다람쥐 신입사원입니다!\n"
     ]
    }
   ],
   "source": [
    "def introduce():\n",
    "    print(\"안녕하세요, 저는 다람쥐 신입사원입니다!\")\n",
    "introduce()"
   ]
  },
  {
   "cell_type": "markdown",
   "metadata": {},
   "source": [
    "## **문제 2: 출근 체크하기**\n",
    "\n",
    "**\"다람쥐는 출근할 때 출근부에 이름을 적어야 한다.\"**\n",
    "\n",
    "1. `check_in(name)`이라는 함수를 만들어 매개변수 `name`을 입력받아 다음과 같이 출력하세요.\n",
    "    - **\"[이름]님, 출근 체크 완료!\"**\n",
    "2. 함수를 호출해 **\"다람쥐\"**를 출근 체크하세요."
   ]
  },
  {
   "cell_type": "code",
   "execution_count": 7,
   "metadata": {},
   "outputs": [
    {
     "name": "stdout",
     "output_type": "stream",
     "text": [
      "다람쥐님, 출근 체크 완료!\n"
     ]
    }
   ],
   "source": [
    "def check_in(name):\n",
    "    print(f\"{name}님, 출근 체크 완료!\")\n",
    "check_in(\"다람쥐\")"
   ]
  },
  {
   "cell_type": "markdown",
   "metadata": {},
   "source": [
    "## **문제 3: 업무 시간 계산하기**\n",
    "\n",
    "**\"다람쥐는 오늘 근무한 시간을 계산하고 싶다.\"**\n",
    "\n",
    "1. `work_hours(start, end)`라는 함수를 만들어 매개변수 `start`(출근 시간)와 `end`(퇴근 시간)를 입력받아 근무 시간을 계산하세요.\n",
    "    - 근무 시간 = `end - start`\n",
    "2. 반환된 근무 시간을 출력하세요.\n",
    "    - 출력 예시: **\"오늘 근무한 시간은 [근무 시간]시간입니다.\"**"
   ]
  },
  {
   "cell_type": "code",
   "execution_count": 9,
   "metadata": {},
   "outputs": [
    {
     "name": "stdout",
     "output_type": "stream",
     "text": [
      "오늘 근무한 시간은 2시간입니다.\n"
     ]
    }
   ],
   "source": [
    "def work_hours(start, end):\n",
    "    print(f\"오늘 근무한 시간은 {end - start}시간입니다.\")\n",
    "work_hours(13, 15)"
   ]
  },
  {
   "cell_type": "markdown",
   "metadata": {},
   "source": [
    "## **문제 4: 점심 메뉴 추천**\n",
    "\n",
    "**\"점심시간, 다람쥐는 팀원들에게 점심 메뉴를 추천해준다.\"**\n",
    "\n",
    "1. `recommend_menu(*menus)`라는 함수를 만들어 여러 개의 점심 메뉴를 매개변수로 전달받으세요.\n",
    "2. 랜덤하게 하나의 메뉴를 선택하고 반환하세요.\n",
    "    - 출력 예시: **\"오늘의 점심 메뉴는 [선택된 메뉴]입니다!\"**\n",
    "    - 힌트: `random.choice()`를 사용하면 랜덤 선택이 가능합니다."
   ]
  },
  {
   "cell_type": "code",
   "execution_count": 34,
   "metadata": {},
   "outputs": [
    {
     "name": "stdout",
     "output_type": "stream",
     "text": [
      "오늘의 점심 메뉴는 게입니다!\n"
     ]
    }
   ],
   "source": [
    "import random\n",
    "menus = (\"샌드위치\", \"샐러드\", \"게\", \"스시\")\n",
    "def recommend_menu(*menus):\n",
    "    print(f\"오늘의 점심 메뉴는 {random.choice(menus)}입니다!\")\n",
    "recommend_menu(*menus)"
   ]
  },
  {
   "cell_type": "code",
   "execution_count": 37,
   "metadata": {},
   "outputs": [
    {
     "name": "stdout",
     "output_type": "stream",
     "text": [
      "오늘의 점심 메뉴는 스시입니다!\n"
     ]
    }
   ],
   "source": [
    "import random\n",
    "\n",
    "recommended_menu = recommend_menu(\"샌드위치\", \"샐러드\", \"게\", \"스시\")\n",
    "\n",
    "def recommend_menu(*menus):\n",
    "    return random.choice(menus)\n",
    "\n",
    "print(f\"오늘의 점심 메뉴는 {random.choice(menus)}입니다!\")"
   ]
  },
  {
   "cell_type": "markdown",
   "metadata": {},
   "source": [
    "## **문제 5: 오후 커피 마시기**\n",
    "\n",
    "**\"오후에 졸린 다람쥐는 커피를 마시려고 한다.\"**\n",
    "\n",
    "1. `coffee_time()`이라는 함수를 만들어 다음과 같은 문자열을 반환하세요.\n",
    "    - **\"오후 3시입니다. 커피 한 잔 하세요!\"**\n",
    "2. 반환된 문자열을 출력하세요."
   ]
  },
  {
   "cell_type": "code",
   "execution_count": 38,
   "metadata": {},
   "outputs": [
    {
     "name": "stdout",
     "output_type": "stream",
     "text": [
      "오후 3시입니다. 커피 한 잔 하세요!\n"
     ]
    }
   ],
   "source": [
    "def coffee_time():\n",
    "    print(input())\n",
    "coffee_time()"
   ]
  },
  {
   "cell_type": "markdown",
   "metadata": {},
   "source": [
    "## **문제 6: 업무 성과 분석하기**\n",
    "\n",
    "**\"다람쥐는 오늘의 업무 성과를 보고해야 한다.\"**\n",
    "\n",
    "1. `work_report(tasks_done)`이라는 함수를 만들어 오늘 처리한 업무 수를 매개변수로 받으세요.\n",
    "2. 함수는 다음 두 값을 반환합니다.\n",
    "    - `tasks_done`: 처리한 업무 수\n",
    "    - `status`: 업무 성과 평가 (10개 이상: \"우수\", 5~9개: \"보통\", 4개 이하: \"노력 필요\")\n",
    "3. 반환된 값을 사용해 다음 메시지를 출력하세요.\n",
    "    - **\"오늘 처리한 업무는 [업무 수]개입니다. 성과 평가: [평가]\"**"
   ]
  },
  {
   "cell_type": "code",
   "execution_count": 67,
   "metadata": {},
   "outputs": [
    {
     "name": "stdout",
     "output_type": "stream",
     "text": [
      "오늘 처리한 업무는 9개입니다. 성과 평가: 보통\n"
     ]
    }
   ],
   "source": [
    "def work_report(tasks_done):\n",
    "    if tasks_done <= 4:\n",
    "        return \"노력 필요\"\n",
    "    elif tasks_done <= 9:\n",
    "        return \"보통\"\n",
    "    else:\n",
    "        return \"우수\"\n",
    "    \n",
    "num = int(input())\n",
    "\n",
    "print(f\"오늘 처리한 업무는 {num}개입니다. 성과 평가: {work_report(num)}\")"
   ]
  },
  {
   "cell_type": "code",
   "execution_count": 68,
   "metadata": {},
   "outputs": [
    {
     "name": "stdout",
     "output_type": "stream",
     "text": [
      "오늘 처리한 업무는 3개입니다. 성과 평가: 우수\n"
     ]
    }
   ],
   "source": [
    "def work_report(tasks_done):\n",
    "    if tasks_done >= 10:\n",
    "        status = \"노력 필요\"\n",
    "    elif tasks_done >= 5:\n",
    "        status = \"보통\"\n",
    "    else:\n",
    "        status = \"우수\"\n",
    "    return tasks_done, status\n",
    "    \n",
    "num = int(input())\n",
    "result_tasks_done, result_status = work_report(num)\n",
    "\n",
    "print(f\"오늘 처리한 업무는 {result_tasks_done}개입니다. 성과 평가: {result_status}\")"
   ]
  },
  {
   "cell_type": "markdown",
   "metadata": {},
   "source": [
    "## **문제 7: 월급 계산 및 세금 공제**\n",
    "\n",
    "**\"다람쥐는 첫 월급을 계산하고 세금을 공제해야 한다.\"**\n",
    "\n",
    "1. `calculate_salary(base_salary, bonus)`라는 함수를 만들어 기본 월급과 보너스를 매개변수로 받으세요.\n",
    "2. 총 월급을 계산하고, 세금은 총 월급의 10%로 공제하세요.\n",
    "3. 함수는 다음 두 값을 반환합니다.\n",
    "    - `net_salary`: 실수령액 (총 월급 - 세금)\n",
    "    - `tax`: 세금 공제액\n",
    "4. 반환된 값을 사용해 다음 메시지를 출력하세요.\n",
    "    - **\"세전 월급: [총 월급]원, 세금: [세금]원, 실수령액: [실수령액]원\"**"
   ]
  },
  {
   "cell_type": "code",
   "execution_count": 59,
   "metadata": {},
   "outputs": [
    {
     "name": "stdout",
     "output_type": "stream",
     "text": [
      "세전 월급: 30원, 세금: 4원, 실수령액: 36원\n"
     ]
    }
   ],
   "source": [
    "S = []\n",
    "\n",
    "def calculate_salary(base_salary, bonus):\n",
    "    total_salary = base_salary + bonus\n",
    "    net_salary = int(total_salary * 9 / 10)\n",
    "    tax = int(total_salary / 10)\n",
    "    return net_salary, tax\n",
    "\n",
    "pay = int(input())\n",
    "print(f\"세전 월급: {pay}원, 세금: {calculate_salary(pay, 10)[1]}원, 실수령액: {calculate_salary(pay, 10)[0]}원\")"
   ]
  }
 ],
 "metadata": {
  "kernelspec": {
   "display_name": "pystudy_env",
   "language": "python",
   "name": "python3"
  },
  "language_info": {
   "codemirror_mode": {
    "name": "ipython",
    "version": 3
   },
   "file_extension": ".py",
   "mimetype": "text/x-python",
   "name": "python",
   "nbconvert_exporter": "python",
   "pygments_lexer": "ipython3",
   "version": "3.12.8"
  }
 },
 "nbformat": 4,
 "nbformat_minor": 2
}
