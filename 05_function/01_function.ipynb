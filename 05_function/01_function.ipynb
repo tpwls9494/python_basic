{
 "cells": [
  {
   "cell_type": "markdown",
   "metadata": {},
   "source": [
    "### 함수"
   ]
  },
  {
   "cell_type": "code",
   "execution_count": 2,
   "metadata": {},
   "outputs": [],
   "source": [
    "def print_greeting():\n",
    "    print(\"좋은 아침입니다 :) Merry Chiristmas!\")"
   ]
  },
  {
   "cell_type": "code",
   "execution_count": 5,
   "metadata": {},
   "outputs": [
    {
     "name": "stdout",
     "output_type": "stream",
     "text": [
      "좋은 아침입니다 :) Merry Chiristmas!\n"
     ]
    }
   ],
   "source": [
    "print_greeting()"
   ]
  },
  {
   "cell_type": "code",
   "execution_count": 7,
   "metadata": {},
   "outputs": [],
   "source": [
    "# 파라미터x return 0\n",
    "def print_greeting():\n",
    "    return f\"좋은 아침입니다 :) Merry Chiristmas!\""
   ]
  },
  {
   "cell_type": "code",
   "execution_count": 10,
   "metadata": {},
   "outputs": [],
   "source": [
    "# 파라미터o, return x\n",
    "def print_greeting(name):\n",
    "    print(f\"{name}님! 좋은 아침입니다 :) Merry Chiristmas!\")"
   ]
  },
  {
   "cell_type": "code",
   "execution_count": 13,
   "metadata": {},
   "outputs": [],
   "source": [
    "# 파라미터o, return o\n",
    "def print_greeting(name):\n",
    "    return f\"{name}님! 좋은 아침입니다 :) Merry Chiristmas!\""
   ]
  },
  {
   "cell_type": "code",
   "execution_count": 14,
   "metadata": {},
   "outputs": [
    {
     "data": {
      "text/plain": [
       "'세진님! 좋은 아침입니다 :) Merry Chiristmas!'"
      ]
     },
     "execution_count": 14,
     "metadata": {},
     "output_type": "execute_result"
    }
   ],
   "source": [
    "name = \"세진\"\n",
    "print_greeting(name)"
   ]
  },
  {
   "cell_type": "code",
   "execution_count": 16,
   "metadata": {},
   "outputs": [],
   "source": [
    "def print_greeting():\n",
    "    print(\"좋은 아침입니다 :) Merry Chiristmas!\")\n",
    "\n",
    "    return\n",
    "\n",
    "    print(\"출력을 하나 더\")"
   ]
  },
  {
   "cell_type": "code",
   "execution_count": 17,
   "metadata": {},
   "outputs": [
    {
     "name": "stdout",
     "output_type": "stream",
     "text": [
      "좋은 아침입니다 :) Merry Chiristmas!\n"
     ]
    }
   ],
   "source": [
    "print_greeting()"
   ]
  },
  {
   "cell_type": "code",
   "execution_count": null,
   "metadata": {},
   "outputs": [],
   "source": [
    "# 파라미터o, retrunx\n",
    "def print_name_greeting(name):\n",
    "    print(f\"{name}님! 좋은 아침입니다 :) Merry Chiristmas!\")"
   ]
  },
  {
   "cell_type": "code",
   "execution_count": null,
   "metadata": {},
   "outputs": [],
   "source": [
    "# 파라미터o, retrunx\n",
    "def print_name_greeting(name):\n",
    "    return f\"{name}님! 좋은 아침입니다 :) Merry Chiristmas!\""
   ]
  },
  {
   "cell_type": "code",
   "execution_count": null,
   "metadata": {},
   "outputs": [],
   "source": [
    "print_name_greeting(\"세진\")"
   ]
  },
  {
   "cell_type": "code",
   "execution_count": 19,
   "metadata": {},
   "outputs": [],
   "source": [
    "def print_name_greeting(name='홍길동'):\n",
    "    return f\"{name}님! 좋은 아침입니다 :) Merry Chiristmas!\""
   ]
  },
  {
   "cell_type": "code",
   "execution_count": 23,
   "metadata": {},
   "outputs": [
    {
     "data": {
      "text/plain": [
       "'sj님! 좋은 아침입니다 :) Merry Chiristmas!'"
      ]
     },
     "execution_count": 23,
     "metadata": {},
     "output_type": "execute_result"
    }
   ],
   "source": [
    "name_sj = 'sj'\n",
    "print_name_greeting(name_sj)"
   ]
  },
  {
   "cell_type": "code",
   "execution_count": null,
   "metadata": {},
   "outputs": [],
   "source": [
    "def print_name_greeting(name, time):\n",
    "    return f\"{name}님! 좋은 {time}입니다 :) Merry Chiristmas!\""
   ]
  },
  {
   "cell_type": "code",
   "execution_count": null,
   "metadata": {},
   "outputs": [],
   "source": [
    "print_name_greeting('sj', 'morning')\n",
    "print_name_greeting(name='호랑이', time='afternoon')\n",
    "print_name_greeting(time=\"저녁\", name=\"세진\")\n",
    "print_name_greeting(name='토끼', time='간식시간')\n",
    "\n"
   ]
  }
 ],
 "metadata": {
  "kernelspec": {
   "display_name": "pystudy_env",
   "language": "python",
   "name": "python3"
  },
  "language_info": {
   "codemirror_mode": {
    "name": "ipython",
    "version": 3
   },
   "file_extension": ".py",
   "mimetype": "text/x-python",
   "name": "python",
   "nbconvert_exporter": "python",
   "pygments_lexer": "ipython3",
   "version": "3.12.8"
  }
 },
 "nbformat": 4,
 "nbformat_minor": 2
}
